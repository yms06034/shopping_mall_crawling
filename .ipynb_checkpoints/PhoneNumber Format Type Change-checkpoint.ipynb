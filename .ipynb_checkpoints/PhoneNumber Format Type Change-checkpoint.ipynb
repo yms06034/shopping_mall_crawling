{
 "cells": [
  {
   "cell_type": "code",
   "execution_count": null,
   "id": "51bb5597",
   "metadata": {},
   "outputs": [],
   "source": [
    "import pandas as pd\n",
    "import openpyxl\n",
    "\n",
    "def format_phone_numbers(excel_file):\n",
    "    df = pd.read_excel(excel_file, engine='openpyxl')\n",
    "    df['전화번호'] = df['전화번호'].astype(str)\n",
    "\n",
    "    numbers = []\n",
    "    for number in df['전화번호']:\n",
    "        new_numbernic = '0' + number[:2] + '-' + number[2:6] + '-' + number[6:]\n",
    "        numbers.append(new_numbernic)\n",
    "\n",
    "    df['전화번호'] = numbers\n",
    "\n",
    "    df.to_excel(\"\", index=False, engine='openpyxl')\n",
    "\n",
    "format_phone_numbers(\"\")"
   ]
  }
 ],
 "metadata": {
  "kernelspec": {
   "display_name": "Python 3 (ipykernel)",
   "language": "python",
   "name": "python3"
  },
  "language_info": {
   "codemirror_mode": {
    "name": "ipython",
    "version": 3
   },
   "file_extension": ".py",
   "mimetype": "text/x-python",
   "name": "python",
   "nbconvert_exporter": "python",
   "pygments_lexer": "ipython3",
   "version": "3.10.9"
  }
 },
 "nbformat": 4,
 "nbformat_minor": 5
}

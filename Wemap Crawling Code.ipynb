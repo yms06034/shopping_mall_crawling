{
 "cells": [
  {
   "cell_type": "code",
   "execution_count": null,
   "id": "6a4c1a4b",
   "metadata": {},
   "outputs": [],
   "source": [
    "# !pip install selenium\n",
    "# !pip install BeautifulSoup4\n",
    "# !pip install requests\n",
    "# !pip install pandas\n",
    "# !pip install numpy\n",
    "# !pip install webdriver_manager\n",
    "# !pip install pyperclip\n",
    "# !pip install fake-useragent"
   ]
  },
  {
   "cell_type": "code",
   "execution_count": 1,
   "id": "377bdfc6",
   "metadata": {},
   "outputs": [],
   "source": [
    "from selenium import webdriver\n",
    "from selenium.webdriver.common.by import By\n",
    "from selenium.webdriver.common.keys import Keys\n",
    "from selenium.webdriver.chrome.options import Options\n",
    "from selenium.webdriver.chrome.service import Service\n",
    "from selenium.common.exceptions import *\n",
    "\n",
    "from webdriver_manager.chrome import ChromeDriverManager\n",
    "from bs4 import BeautifulSoup as BS\n",
    "from urllib.parse import urlparse, parse_qs\n",
    "\n",
    "import pandas as pd\n",
    "import numpy as np\n",
    "import time\n",
    "import requests\n",
    "import pyperclip\n",
    "import warnings\n",
    "import datetime\n",
    "\n",
    "warnings.filterwarnings(action='ignore')"
   ]
  },
  {
   "cell_type": "code",
   "execution_count": 2,
   "id": "e6231e91",
   "metadata": {},
   "outputs": [],
   "source": [
    "def find_css(css_selector):\n",
    "    return browser.find_element(By.CSS_SELECTOR, css_selector)\n",
    "def finds_css(css_selector):\n",
    "    return browser.find_elements(By.CSS_SELECTOR, css_selector)\n",
    "\n",
    "def find_xpath(xpath):\n",
    "    return browser.find_element(By.XPATH, xpath)\n",
    "def finds_xpath(xpath):\n",
    "    return browser.find_elements(By.XPATH, xpath)\n",
    "\n",
    "def find_id(e_id):\n",
    "    return browser.find_element(By.ID, e_id)\n",
    "\n",
    "def find_className(cn):\n",
    "    return browser.find_element(By.CLASS_NAME, cn)\n",
    "\n",
    "def finds_className(cn):\n",
    "    return browser.find_elements(By.CLASS_NAME, cn)\n",
    "\n",
    "def find_linktext(lt):\n",
    "    return browser.find_element(By.LINK_TEXT, lt)"
   ]
  },
  {
   "cell_type": "code",
   "execution_count": 3,
   "id": "641859b4",
   "metadata": {},
   "outputs": [],
   "source": [
    "options = webdriver.ChromeOptions()\n",
    "options.add_argument('--no--sandbox')\n",
    "options.add_argument('no-sandbox')\n",
    "options.add_argument('--disable-dev-shm-usage')\n",
    "options.add_argument('--window-size=1080,800')\n",
    "options.add_argument('incognito')\n",
    "chrome_service = Service('chromedriver')\n",
    "chrome_service = Service(executable_path=\"chromedriver.exe\")\n",
    "browser = webdriver.Chrome(service=chrome_service, options=options)"
   ]
  },
  {
   "cell_type": "code",
   "execution_count": 4,
   "id": "85ba20e3",
   "metadata": {},
   "outputs": [],
   "source": [
    "def getNext(x, lst):\n",
    "    next_el = None\n",
    "    for i in range(0, len(lst)):\n",
    "        if lst[i] == x:\n",
    "            next_el = lst[i+1]\n",
    "    return next_el"
   ]
  },
  {
   "cell_type": "code",
   "execution_count": 5,
   "id": "956f008f",
   "metadata": {},
   "outputs": [],
   "source": [
    "keywords = [\n",
    "    '기존',\n",
    "'중급',\n",
    "'머리',\n",
    "'라이벌',\n",
    "'쐐기',\n",
    "'혓바늘',\n",
    "'향기',\n",
    "'지주',\n",
    "'앞쪽',\n",
    "'사실',\n",
    "'승부',\n",
    "'팔짱',\n",
    "'연봉',\n",
    "'초반',\n",
    "'기점',\n",
    "]"
   ]
  },
  {
   "cell_type": "code",
   "execution_count": 6,
   "id": "9e735056",
   "metadata": {},
   "outputs": [],
   "source": [
    "error = []\n",
    "seller_page_hrefs = []"
   ]
  },
  {
   "cell_type": "code",
   "execution_count": 7,
   "id": "d442ed5b",
   "metadata": {},
   "outputs": [],
   "source": [
    "final_info = [[''], [''],['']]"
   ]
  },
  {
   "cell_type": "code",
   "execution_count": 8,
   "id": "35426180",
   "metadata": {},
   "outputs": [
    {
     "name": "stdout",
     "output_type": "stream",
     "text": [
      "2944\n",
      "2944 0 기존 https://front.wemakeprice.com/product/2595359328?search_keyword=%25EA%25B8%25B0%25EC%25A1%25B4&_service=5&_no=1102\n",
      "p\n",
      "\t 사업자 구분 일반과세자\n",
      "\t 상호 / 대표자 144번가 / 김성철\n",
      "\t 연락처 010-5594-9968\n",
      "\t 사업장 소재지 경기도 용인시 수지구 죽전동 1329 성현마을 우미이노스빌 203동 1105호\n",
      "2944 1 기존 https://front.wemakeprice.com/product/2597479446?search_keyword=%25EA%25B8%25B0%25EC%25A1%25B4&_service=5&_no=573\n",
      "p\n",
      "\t 사업자 구분 간이과세자\n",
      "\t 상호 / 대표자 엠에이치 / 강민주\n",
      "\t 연락처 010-8380-3014\n",
      "\t 사업장 소재지 경기도 고양시 일산서구 탄현동 1477 502동 1008호\n",
      "2944 2 기존 https://front.wemakeprice.com/product/2597392146?search_keyword=%25EA%25B8%25B0%25EC%25A1%25B4&_service=5&_no=856\n",
      "p\n",
      "\t 사업자 구분 간이과세자\n",
      "\t 상호 / 대표자 엠에이치 / 강민주\n",
      "\t 연락처 010-8380-3014\n",
      "\t 사업장 소재지 경기도 고양시 일산서구 탄현동 1477 502동 1008호\n",
      "2944 3 기존 https://front.wemakeprice.com/product/2586437622?search_keyword=%25EA%25B8%25B0%25EC%25A1%25B4&_service=5&_no=2052\n",
      "p\n",
      "\t 사업자 구분 일반과세자\n",
      "\t 상호 / 대표자 오렌다나인 / 이정혜\n",
      "\t 연락처 010-2667-7304\n",
      "\t 사업장 소재지 경기도 의왕시 포일동 657-2 에이스청계타워 제8층 제에이805호\n",
      "2944 4 기존 https://front.wemakeprice.com/product/2598519820?search_keyword=%25EA%25B8%25B0%25EC%25A1%25B4&_service=5&_no=263\n",
      "p\n",
      "\t 사업자 구분 간이과세자\n",
      "\t 상호 / 대표자 원플러스투 / 김선영\n",
      "\t 연락처 010-4220-5453\n",
      "\t 사업장 소재지 경기 용인시 기흥구 기흥동 734-6번지 B01-T37호\n",
      "2944 5 기존 https://front.wemakeprice.com/product/2572547422?search_keyword=%25EA%25B8%25B0%25EC%25A1%25B4&_service=5&_no=2650\n",
      "p\n",
      "\t 사업자 구분 간이과세자\n",
      "\t 상호 / 대표자 메르시라이프 / 전형준\n",
      "\t 연락처 010-5831-7182\n",
      "\t 사업장 소재지 경상남도 하동군 하동읍 화심리 1258-6 (단독주택)\n",
      "2944 6 기존 https://front.wemakeprice.com/product/2595528047?search_keyword=%25EA%25B8%25B0%25EC%25A1%25B4&_service=5&_no=1032\n",
      "p\n",
      "\t 사업자 구분 일반과세자\n",
      "\t 상호 / 대표자 145번가 / 김성철\n",
      "\t 연락처 010-5594-9968\n",
      "\t 사업장 소재지 경기도 용인시 수지구 죽전동 1329 성현마을 우미이노스빌 203동 1105호\n",
      "2944 7 기존 https://front.wemakeprice.com/product/2586780445?search_keyword=%25EA%25B8%25B0%25EC%25A1%25B4&_service=5&_no=1967\n",
      "p\n",
      "\t 사업자 구분 일반과세자\n",
      "\t 상호 / 대표자 오렌다나인 / 이정혜\n",
      "\t 연락처 010-2667-7304\n",
      "\t 사업장 소재지 경기도 의왕시 포일동 657-2 에이스청계타워 제8층 제에이805호\n",
      "2944 8 기존 https://front.wemakeprice.com/product/326496816?search_keyword=%25EA%25B8%25B0%25EC%25A1%25B4&_service=5&_no=19\n",
      "p\n",
      "\t 사업자 구분 일반과세자\n",
      "\t 상호 / 대표자 쿨비즈 / 김덕근\n",
      "\t 연락처 010-4551-3830\n",
      "\t 사업장 소재지 경기도 하남시 항동 60-4 쿨비즈\n",
      "2944 9 기존 https://front.wemakeprice.com/product/2563376471?search_keyword=%25EA%25B8%25B0%25EC%25A1%25B4&_service=5&_no=2954\n",
      "p\n",
      "\t 사업자 구분 일반과세자\n",
      "\t 상호 / 대표자 원인터셀러 / 김주현\n",
      "\t 연락처 010-5853-9630\n",
      "\t 사업장 소재지 경기도 광주시 태전동 697 이편한세상태전2차 301동 1401호\n",
      "2944 10 기존 https://front.wemakeprice.com/product/2587681943?search_keyword=%25EA%25B8%25B0%25EC%25A1%25B4&_service=5&_no=1907\n",
      "p\n",
      "\t 사업자 구분 일반과세자\n",
      "\t 상호 / 대표자 오렌다나인 / 이정혜\n",
      "\t 연락처 010-2667-7304\n",
      "\t 사업장 소재지 경기도 의왕시 포일동 657-2 에이스청계타워 제8층 제에이805호\n",
      "2944 11 기존 https://front.wemakeprice.com/product/2595474052?search_keyword=%25EA%25B8%25B0%25EC%25A1%25B4&_service=5&_no=1044\n",
      "p\n",
      "\t 사업자 구분 일반과세자\n",
      "\t 상호 / 대표자 145번가 / 김성철\n",
      "\t 연락처 010-5594-9968\n",
      "\t 사업장 소재지 경기도 용인시 수지구 죽전동 1329 성현마을 우미이노스빌 203동 1105호\n",
      "2944 12 기존 https://front.wemakeprice.com/product/2594951676?search_keyword=%25EA%25B8%25B0%25EC%25A1%25B4&_service=5&_no=1266\n",
      "p\n",
      "\t 사업자 구분 일반과세자\n",
      "\t 상호 / 대표자 144번가 / 김성철\n",
      "\t 연락처 010-5594-9968\n",
      "\t 사업장 소재지 경기도 용인시 수지구 죽전동 1329 성현마을 우미이노스빌 203동 1105호\n",
      "2944 13 기존 https://front.wemakeprice.com/product/2569387174?search_keyword=%25EA%25B8%25B0%25EC%25A1%25B4&_service=5&_no=2740\n",
      "p\n",
      "\t 사업자 구분 일반과세자\n",
      "\t 상호 / 대표자 블루홀오피스 / 강희균\n",
      "\t 연락처 1599-8709\n",
      "\t 사업장 소재지 대구광역시 동구 신암동 626-5 아양로 15길 81\n",
      "2944 14 기존 https://front.wemakeprice.com/product/2597843277?search_keyword=%25EA%25B8%25B0%25EC%25A1%25B4&_service=5&_no=311\n",
      "p\n",
      "\t 사업자 구분 일반과세자\n",
      "\t 상호 / 대표자 오렌다에잇 / 이정혜\n",
      "\t 연락처 010-2667-7304\n",
      "\t 사업장 소재지 경기도 화성시 병점동 844-3 이타운 4 705-1-C12호\n",
      "2944 15 기존 https://front.wemakeprice.com/product/2564571966?search_keyword=%25EA%25B8%25B0%25EC%25A1%25B4&_service=5&_no=2934\n",
      "p\n",
      "\t 사업자 구분 간이과세자\n",
      "\t 상호 / 대표자 와이엔스타 / 최예나\n",
      "\t 연락처 010-5617-2047\n",
      "\t 사업장 소재지 경기 수원시 권선구 구운동 931-6번지 두진빌 403호\n",
      "2944 16 기존 https://front.wemakeprice.com/product/2586798193?search_keyword=%25EA%25B8%25B0%25EC%25A1%25B4&_service=5&_no=1955\n",
      "p\n",
      "\t 사업자 구분 일반과세자\n",
      "\t 상호 / 대표자 오렌다나인 / 이정혜\n",
      "\t 연락처 010-2667-7304\n",
      "\t 사업장 소재지 경기도 의왕시 포일동 657-2 에이스청계타워 제8층 제에이805호\n",
      "2944 17 기존 https://front.wemakeprice.com/product/2586334037?search_keyword=%25EA%25B8%25B0%25EC%25A1%25B4&_service=5&_no=2066\n",
      "p\n",
      "\t 사업자 구분 간이과세자\n",
      "\t 상호 / 대표자 위즈덤마켓 / 박혜옥\n",
      "\t 연락처 070-8821-8131\n",
      "\t 사업장 소재지 경기도 파주시 동패동 1695-2 센타프라자1 1004-D4호\n",
      "2944 18 기존 https://front.wemakeprice.com/product/2597345514?search_keyword=%25EA%25B8%25B0%25EC%25A1%25B4&_service=5&_no=918\n",
      "2944 19 기존 https://front.wemakeprice.com/product/2573090670?search_keyword=%25EA%25B8%25B0%25EC%25A1%25B4&_service=5&_no=2641\n",
      "p\n",
      "\t 사업자 구분 일반과세자\n",
      "\t 상호 / 대표자 썸머킴 / 김여름\n",
      "\t 연락처 010-5812-9008\n",
      "\t 사업장 소재지 경기 파주시 운정4동 62-24번지 202호 창고\n",
      "2944 20 기존 https://front.wemakeprice.com/product/2594327455?search_keyword=%25EA%25B8%25B0%25EC%25A1%25B4&_service=5&_no=1470\n",
      "p\n",
      "\t 사업자 구분 일반과세자\n",
      "\t 상호 / 대표자 143번가 / 김성철\n",
      "\t 연락처 010-5594-9968\n",
      "\t 사업장 소재지 경기도 용인시 수지구 죽전동 484-9 금강프라자 606-227호\n",
      "2944 21 기존 https://front.wemakeprice.com/product/2595371615?search_keyword=%25EA%25B8%25B0%25EC%25A1%25B4&_service=5&_no=1098\n",
      "p\n",
      "\t 사업자 구분 일반과세자\n",
      "\t 상호 / 대표자 145번가 / 김성철\n",
      "\t 연락처 010-5594-9968\n",
      "\t 사업장 소재지 경기도 용인시 수지구 죽전동 1329 성현마을 우미이노스빌 203동 1105호\n",
      "2944 22 기존 https://front.wemakeprice.com/product/2566853736?search_keyword=%25EA%25B8%25B0%25EC%25A1%25B4&_service=5&_no=2877\n",
      "p\n",
      "\t 사업자 구분 일반과세자\n",
      "\t 상호 / 대표자 피지씨 파트너스 / 김민수\n",
      "\t 연락처 010-2664-8671\n",
      "\t 사업장 소재지 인천광역시 계양구 계산동 944-11 302-1315호\n",
      "2944 23 기존 https://front.wemakeprice.com/product/2597490567?search_keyword=%25EA%25B8%25B0%25EC%25A1%25B4&_service=5&_no=527\n",
      "p\n",
      "\t 사업자 구분 간이과세자\n",
      "\t 상호 / 대표자 엠에이치 / 강민주\n",
      "\t 연락처 010-8380-3014\n",
      "\t 사업장 소재지 경기도 고양시 일산서구 탄현동 1477 502동 1008호\n",
      "2944 24 기존 https://front.wemakeprice.com/product/2597961129?search_keyword=%25EA%25B8%25B0%25EC%25A1%25B4&_service=5&_no=309\n",
      "p\n",
      "\t 사업자 구분 일반과세자\n",
      "\t 상호 / 대표자 바하마스 / 정세현\n",
      "\t 연락처 010-2913-5986\n",
      "\t 사업장 소재지 경기도 수원시 권선구 금곡동 241 삼익1차아파트 104-1503\n",
      "2944 25 기존 https://front.wemakeprice.com/product/2597475663?search_keyword=%25EA%25B8%25B0%25EC%25A1%25B4&_service=5&_no=604\n",
      "p\n",
      "\t 사업자 구분 간이과세자\n",
      "\t 상호 / 대표자 엠에이치 / 강민주\n",
      "\t 연락처 010-8380-3014\n",
      "\t 사업장 소재지 경기도 고양시 일산서구 탄현동 1477 502동 1008호\n",
      "2944 26 기존 https://front.wemakeprice.com/product/2593056580?search_keyword=%25EA%25B8%25B0%25EC%25A1%25B4&_service=5&_no=1737\n",
      "p\n",
      "\t 사업자 구분 법인사업자\n",
      "\t 상호 / 대표자 (주)씨제이이엔엠 / 윤상현\n",
      "\t 연락처 02-1577-0102\n",
      "\t 사업장 소재지 서울 서초구 방배2동 2724번지\n",
      "\tpass\n",
      "2944 27 기존 https://front.wemakeprice.com/product/2595113732?search_keyword=%25EA%25B8%25B0%25EC%25A1%25B4&_service=5&_no=1221\n",
      "p\n",
      "\t 사업자 구분 일반과세자\n",
      "\t 상호 / 대표자 144번가 / 김성철\n",
      "\t 연락처 010-5594-9968\n",
      "\t 사업장 소재지 경기도 용인시 수지구 죽전동 1329 성현마을 우미이노스빌 203동 1105호\n",
      "2944 28 기존 https://front.wemakeprice.com/product/2592239028?search_keyword=%25EA%25B8%25B0%25EC%25A1%25B4&_service=5&_no=1749\n",
      "p\n",
      "\t 사업자 구분 간이과세자\n",
      "\t 상호 / 대표자 피엠컴퍼니 / 박민영\n",
      "\t 연락처 010-9795-4128\n",
      "\t 사업장 소재지 서울 동대문구 답십리1동 497-23번지 청계푸르지오시티 오피스텔동 718호\n",
      "2944 29 기존 https://front.wemakeprice.com/product/2597508972?search_keyword=%25EA%25B8%25B0%25EC%25A1%25B4&_service=5&_no=446\n",
      "p\n",
      "\t 사업자 구분 간이과세자\n",
      "\t 상호 / 대표자 엠에이치 / 강민주\n",
      "\t 연락처 010-8380-3014\n",
      "\t 사업장 소재지 경기도 고양시 일산서구 탄현동 1477 502동 1008호\n",
      "2944 30 기존 https://front.wemakeprice.com/product/2587764338?search_keyword=%25EA%25B8%25B0%25EC%25A1%25B4&_service=5&_no=1886\n",
      "p\n",
      "\t 사업자 구분 일반과세자\n",
      "\t 상호 / 대표자 오렌다나인 / 이정혜\n",
      "\t 연락처 010-2667-7304\n",
      "\t 사업장 소재지 경기도 의왕시 포일동 657-2 에이스청계타워 제8층 제에이805호\n",
      "2944 31 기존 https://front.wemakeprice.com/product/2593922670?search_keyword=%25EA%25B8%25B0%25EC%25A1%25B4&_service=5&_no=1656\n",
      "p\n",
      "\t 사업자 구분 일반과세자\n",
      "\t 상호 / 대표자 타비스 / 오정석\n",
      "\t 연락처 070-8019-1509\n",
      "\t 사업장 소재지 경기도 용인시 기흥구 구갈동 578-3 구갈주차전용건물 301호\n",
      "2944 32 기존 https://front.wemakeprice.com/product/2585306420?search_keyword=%25EA%25B8%25B0%25EC%25A1%25B4&_service=5&_no=2240\n",
      "p\n",
      "\t 사업자 구분 간이과세자\n",
      "\t 상호 / 대표자 위즈덤마켓 / 박혜옥\n",
      "\t 연락처 070-8821-8131\n",
      "\t 사업장 소재지 경기도 파주시 동패동 1695-2 센타프라자1 1004-D4호\n",
      "2944 33 기존 https://front.wemakeprice.com/product/2594968478?search_keyword=%25EA%25B8%25B0%25EC%25A1%25B4&_service=5&_no=1253\n",
      "p\n",
      "\t 사업자 구분 일반과세자\n",
      "\t 상호 / 대표자 144번가 / 김성철\n",
      "\t 연락처 010-5594-9968\n",
      "\t 사업장 소재지 경기도 용인시 수지구 죽전동 1329 성현마을 우미이노스빌 203동 1105호\n",
      "2944 34 기존 https://front.wemakeprice.com/product/2594160359?search_keyword=%25EA%25B8%25B0%25EC%25A1%25B4&_service=5&_no=1574\n",
      "p\n",
      "\t 사업자 구분 일반과세자\n",
      "\t 상호 / 대표자 143번가 / 김성철\n",
      "\t 연락처 010-5594-9968\n",
      "\t 사업장 소재지 경기도 용인시 수지구 죽전동 484-9 금강프라자 606-227호\n",
      "2944 35 기존 https://front.wemakeprice.com/product/2588991646?search_keyword=%25EA%25B8%25B0%25EC%25A1%25B4&_service=5&_no=1815\n",
      "p\n",
      "\t 사업자 구분 일반과세자\n",
      "\t 상호 / 대표자 온집안(onziban) / 김은주\n",
      "\t 연락처 02-815-4409\n",
      "\t 사업장 소재지 서울특별시 동작구 흑석동 287-9 287-9\n",
      "2944 36 기존 https://front.wemakeprice.com/product/2570051131?search_keyword=%25EA%25B8%25B0%25EC%25A1%25B4&_service=5&_no=2702\n"
     ]
    },
    {
     "name": "stdout",
     "output_type": "stream",
     "text": [
      "p\n",
      "\t 사업자 구분 간이과세자\n",
      "\t 상호 / 대표자 제이에스글로벌 / 박정식\n",
      "\t 연락처 010-8413-1375\n",
      "\t 사업장 소재지 인천광역시 부평구 갈산동 94 인천테크노밸리 U1센터\n",
      "2944 37 기존 https://front.wemakeprice.com/product/2597592827?search_keyword=%25EA%25B8%25B0%25EC%25A1%25B4&_service=5&_no=331\n",
      "p\n",
      "\t 사업자 구분 간이과세자\n",
      "\t 상호 / 대표자 엠에이치 / 강민주\n",
      "\t 연락처 010-8380-3014\n",
      "\t 사업장 소재지 경기도 고양시 일산서구 탄현동 1477 502동 1008호\n",
      "2944 38 기존 https://front.wemakeprice.com/product/2576811207?search_keyword=%25EA%25B8%25B0%25EC%25A1%25B4&_service=5&_no=2479\n",
      "p\n",
      "\t 사업자 구분 간이과세자\n",
      "\t 상호 / 대표자 비바코리아마켓 / 김석준\n",
      "\t 연락처 010-5767-9637\n",
      "\t 사업장 소재지 서울 영등포구 양평1동 33-5번지 (양평동3가) 상상그린 901호\n",
      "2944 39 기존 https://front.wemakeprice.com/product/2597444138?search_keyword=%25EA%25B8%25B0%25EC%25A1%25B4&_service=5&_no=734\n",
      "p\n",
      "\t 사업자 구분 간이과세자\n",
      "\t 상호 / 대표자 엠에이치 / 강민주\n",
      "\t 연락처 010-8380-3014\n",
      "\t 사업장 소재지 경기도 고양시 일산서구 탄현동 1477 502동 1008호\n",
      "2944 40 기존 https://front.wemakeprice.com/product/2571009453?search_keyword=%25EA%25B8%25B0%25EC%25A1%25B4&_service=5&_no=2678\n",
      "p\n",
      "\t 사업자 구분 일반과세자\n",
      "\t 상호 / 대표자 피지씨 파트너스 / 김민수\n",
      "\t 연락처 010-2664-8671\n",
      "\t 사업장 소재지 인천광역시 계양구 계산동 944-11 302-1315호\n",
      "2944 41 기존 https://front.wemakeprice.com/product/2573230673?search_keyword=%25EA%25B8%25B0%25EC%25A1%25B4&_service=5&_no=2587\n",
      "p\n",
      "\t 사업자 구분 일반과세자\n",
      "\t 상호 / 대표자 썸머킴 / 김여름\n",
      "\t 연락처 010-5812-9008\n",
      "\t 사업장 소재지 경기 파주시 운정4동 62-24번지 202호 창고\n",
      "2944 42 기존 https://front.wemakeprice.com/product/2574493268?search_keyword=%25EA%25B8%25B0%25EC%25A1%25B4&_service=5&_no=2525\n",
      "p\n",
      "\t 사업자 구분 일반과세자\n",
      "\t 상호 / 대표자 웨이비로드 / 이창근\n",
      "\t 연락처 070-8064-2066\n",
      "\t 사업장 소재지 경기도 고양시 일산동구 장항동 863-1 드림월드빌딩 4층 415호\n",
      "2944 43 기존 https://front.wemakeprice.com/product/2597467761?search_keyword=%25EA%25B8%25B0%25EC%25A1%25B4&_service=5&_no=620\n",
      "p\n",
      "\t 사업자 구분 간이과세자\n",
      "\t 상호 / 대표자 엠에이치 / 강민주\n",
      "\t 연락처 010-8380-3014\n",
      "\t 사업장 소재지 경기도 고양시 일산서구 탄현동 1477 502동 1008호\n",
      "2944 44 기존 https://front.wemakeprice.com/product/2566924601?search_keyword=%25EA%25B8%25B0%25EC%25A1%25B4&_service=5&_no=2852\n",
      "p\n",
      "\t 사업자 구분 일반과세자\n",
      "\t 상호 / 대표자 피지씨 파트너스 / 김민수\n",
      "\t 연락처 010-2664-8671\n",
      "\t 사업장 소재지 인천광역시 계양구 계산동 944-11 302-1315호\n",
      "2944 45 기존 https://front.wemakeprice.com/product/2586837563?search_keyword=%25EA%25B8%25B0%25EC%25A1%25B4&_service=5&_no=1923\n",
      "p\n",
      "\t 사업자 구분 일반과세자\n",
      "\t 상호 / 대표자 샌루이스 / 심유미\n",
      "\t 연락처 010-4098-0171\n",
      "\t 사업장 소재지 경기도 고양시 일산동구 백석동 1237 일산 요진 와이시티 오피스텔 808호\n",
      "2944 46 기존 https://front.wemakeprice.com/product/2569383737?search_keyword=%25EA%25B8%25B0%25EC%25A1%25B4&_service=5&_no=2773\n",
      "p\n",
      "\t 사업자 구분 일반과세자\n",
      "\t 상호 / 대표자 다나윈(DanaWeen) / 강희균\n",
      "\t 연락처 1599-8709\n",
      "\t 사업장 소재지 대구광역시 동구 신암동 626-5 동구 아양로 15길 81번지\n",
      "2944 47 기존 https://front.wemakeprice.com/product/2573091402?search_keyword=%25EA%25B8%25B0%25EC%25A1%25B4&_service=5&_no=2640\n",
      "p\n",
      "\t 사업자 구분 간이과세자\n",
      "\t 상호 / 대표자 라이프플러스 / 심성훈\n",
      "\t 연락처 010-4835-3489\n",
      "\t 사업장 소재지 경기도 양주시 광사동 652-2 다온프라자 4층 5호 22469\n",
      "2944 48 기존 https://front.wemakeprice.com/product/2585512845?search_keyword=%25EA%25B8%25B0%25EC%25A1%25B4&_service=5&_no=2173\n",
      "p\n",
      "\t 사업자 구분 간이과세자\n",
      "\t 상호 / 대표자 위즈덤마켓 / 박혜옥\n",
      "\t 연락처 070-8821-8131\n",
      "\t 사업장 소재지 경기도 파주시 동패동 1695-2 센타프라자1 1004-D4호\n",
      "2944 49 기존 https://front.wemakeprice.com/product/2567931864?search_keyword=%25EA%25B8%25B0%25EC%25A1%25B4&_service=5&_no=2813\n",
      "p\n",
      "name 'error_i' is not defined\n",
      "2023-07-20 16:57:20\n"
     ]
    },
    {
     "ename": "ValueError",
     "evalue": "If using all scalar values, you must pass an index",
     "output_type": "error",
     "traceback": [
      "\u001b[1;31m---------------------------------------------------------------------------\u001b[0m",
      "\u001b[1;31mValueError\u001b[0m                                Traceback (most recent call last)",
      "Cell \u001b[1;32mIn[8], line 95\u001b[0m\n\u001b[0;32m     92\u001b[0m     \u001b[38;5;28mprint\u001b[39m(ex)\n\u001b[0;32m     93\u001b[0m     \u001b[38;5;28mprint\u001b[39m(datetime\u001b[38;5;241m.\u001b[39mdatetime\u001b[38;5;241m.\u001b[39mnow()\u001b[38;5;241m.\u001b[39mstrftime(\u001b[38;5;124m'\u001b[39m\u001b[38;5;124m%\u001b[39m\u001b[38;5;124mY-\u001b[39m\u001b[38;5;124m%\u001b[39m\u001b[38;5;124mm-\u001b[39m\u001b[38;5;132;01m%d\u001b[39;00m\u001b[38;5;124m \u001b[39m\u001b[38;5;124m%\u001b[39m\u001b[38;5;124mH:\u001b[39m\u001b[38;5;124m%\u001b[39m\u001b[38;5;124mM:\u001b[39m\u001b[38;5;124m%\u001b[39m\u001b[38;5;124mS\u001b[39m\u001b[38;5;124m'\u001b[39m))\n\u001b[1;32m---> 95\u001b[0m df \u001b[38;5;241m=\u001b[39m \u001b[43mpd\u001b[49m\u001b[38;5;241;43m.\u001b[39;49m\u001b[43mDataFrame\u001b[49m\u001b[43m(\u001b[49m\u001b[43m{\u001b[49m\u001b[38;5;124;43m'\u001b[39;49m\u001b[38;5;124;43m대표자\u001b[39;49m\u001b[38;5;124;43m'\u001b[39;49m\u001b[43m:\u001b[49m\u001b[43m \u001b[49m\u001b[43mfinal_info\u001b[49m\u001b[43m[\u001b[49m\u001b[38;5;241;43m0\u001b[39;49m\u001b[43m]\u001b[49m\u001b[43m,\u001b[49m\n\u001b[0;32m     96\u001b[0m \u001b[43m                  \u001b[49m\u001b[38;5;124;43m'\u001b[39;49m\u001b[38;5;124;43m전화번호\u001b[39;49m\u001b[38;5;124;43m'\u001b[39;49m\u001b[43m:\u001b[49m\u001b[43m \u001b[49m\u001b[43mfinal_info\u001b[49m\u001b[43m[\u001b[49m\u001b[38;5;241;43m1\u001b[39;49m\u001b[43m]\u001b[49m\u001b[43m,\u001b[49m\n\u001b[0;32m     97\u001b[0m \u001b[43m                  \u001b[49m\u001b[38;5;124;43m'\u001b[39;49m\u001b[38;5;124;43m영업소재지\u001b[39;49m\u001b[38;5;124;43m'\u001b[39;49m\u001b[43m:\u001b[49m\u001b[43m \u001b[49m\u001b[43mfinal_info\u001b[49m\u001b[43m[\u001b[49m\u001b[38;5;241;43m2\u001b[39;49m\u001b[43m]\u001b[49m\n\u001b[0;32m     98\u001b[0m \u001b[43m                  \u001b[49m\u001b[43m}\u001b[49m\u001b[43m)\u001b[49m\n\u001b[0;32m     99\u001b[0m df\u001b[38;5;241m.\u001b[39mto_csv(\u001b[38;5;124mf\u001b[39m\u001b[38;5;124m'\u001b[39m\u001b[38;5;124mwemap_\u001b[39m\u001b[38;5;132;01m{\u001b[39;00mkeyword\u001b[38;5;132;01m}\u001b[39;00m\u001b[38;5;124m.csv\u001b[39m\u001b[38;5;124m'\u001b[39m, encoding\u001b[38;5;241m=\u001b[39m\u001b[38;5;124m'\u001b[39m\u001b[38;5;124mutf-8-sig\u001b[39m\u001b[38;5;124m'\u001b[39m, index \u001b[38;5;241m=\u001b[39m \u001b[38;5;28;01mFalse\u001b[39;00m)\n\u001b[0;32m    100\u001b[0m \u001b[38;5;28mprint\u001b[39m(datetime\u001b[38;5;241m.\u001b[39mdatetime\u001b[38;5;241m.\u001b[39mnow()\u001b[38;5;241m.\u001b[39mstrftime(\u001b[38;5;124m'\u001b[39m\u001b[38;5;124m%\u001b[39m\u001b[38;5;124mY-\u001b[39m\u001b[38;5;124m%\u001b[39m\u001b[38;5;124mm-\u001b[39m\u001b[38;5;132;01m%d\u001b[39;00m\u001b[38;5;124m \u001b[39m\u001b[38;5;124m%\u001b[39m\u001b[38;5;124mH:\u001b[39m\u001b[38;5;124m%\u001b[39m\u001b[38;5;124mM:\u001b[39m\u001b[38;5;124m%\u001b[39m\u001b[38;5;124mS\u001b[39m\u001b[38;5;124m'\u001b[39m))\n",
      "File \u001b[1;32m~\\anaconda3\\lib\\site-packages\\pandas\\core\\frame.py:664\u001b[0m, in \u001b[0;36mDataFrame.__init__\u001b[1;34m(self, data, index, columns, dtype, copy)\u001b[0m\n\u001b[0;32m    658\u001b[0m     mgr \u001b[38;5;241m=\u001b[39m \u001b[38;5;28mself\u001b[39m\u001b[38;5;241m.\u001b[39m_init_mgr(\n\u001b[0;32m    659\u001b[0m         data, axes\u001b[38;5;241m=\u001b[39m{\u001b[38;5;124m\"\u001b[39m\u001b[38;5;124mindex\u001b[39m\u001b[38;5;124m\"\u001b[39m: index, \u001b[38;5;124m\"\u001b[39m\u001b[38;5;124mcolumns\u001b[39m\u001b[38;5;124m\"\u001b[39m: columns}, dtype\u001b[38;5;241m=\u001b[39mdtype, copy\u001b[38;5;241m=\u001b[39mcopy\n\u001b[0;32m    660\u001b[0m     )\n\u001b[0;32m    662\u001b[0m \u001b[38;5;28;01melif\u001b[39;00m \u001b[38;5;28misinstance\u001b[39m(data, \u001b[38;5;28mdict\u001b[39m):\n\u001b[0;32m    663\u001b[0m     \u001b[38;5;66;03m# GH#38939 de facto copy defaults to False only in non-dict cases\u001b[39;00m\n\u001b[1;32m--> 664\u001b[0m     mgr \u001b[38;5;241m=\u001b[39m \u001b[43mdict_to_mgr\u001b[49m\u001b[43m(\u001b[49m\u001b[43mdata\u001b[49m\u001b[43m,\u001b[49m\u001b[43m \u001b[49m\u001b[43mindex\u001b[49m\u001b[43m,\u001b[49m\u001b[43m \u001b[49m\u001b[43mcolumns\u001b[49m\u001b[43m,\u001b[49m\u001b[43m \u001b[49m\u001b[43mdtype\u001b[49m\u001b[38;5;241;43m=\u001b[39;49m\u001b[43mdtype\u001b[49m\u001b[43m,\u001b[49m\u001b[43m \u001b[49m\u001b[43mcopy\u001b[49m\u001b[38;5;241;43m=\u001b[39;49m\u001b[43mcopy\u001b[49m\u001b[43m,\u001b[49m\u001b[43m \u001b[49m\u001b[43mtyp\u001b[49m\u001b[38;5;241;43m=\u001b[39;49m\u001b[43mmanager\u001b[49m\u001b[43m)\u001b[49m\n\u001b[0;32m    665\u001b[0m \u001b[38;5;28;01melif\u001b[39;00m \u001b[38;5;28misinstance\u001b[39m(data, ma\u001b[38;5;241m.\u001b[39mMaskedArray):\n\u001b[0;32m    666\u001b[0m     \u001b[38;5;28;01mimport\u001b[39;00m \u001b[38;5;21;01mnumpy\u001b[39;00m\u001b[38;5;21;01m.\u001b[39;00m\u001b[38;5;21;01mma\u001b[39;00m\u001b[38;5;21;01m.\u001b[39;00m\u001b[38;5;21;01mmrecords\u001b[39;00m \u001b[38;5;28;01mas\u001b[39;00m \u001b[38;5;21;01mmrecords\u001b[39;00m\n",
      "File \u001b[1;32m~\\anaconda3\\lib\\site-packages\\pandas\\core\\internals\\construction.py:493\u001b[0m, in \u001b[0;36mdict_to_mgr\u001b[1;34m(data, index, columns, dtype, typ, copy)\u001b[0m\n\u001b[0;32m    489\u001b[0m     \u001b[38;5;28;01melse\u001b[39;00m:\n\u001b[0;32m    490\u001b[0m         \u001b[38;5;66;03m# dtype check to exclude e.g. range objects, scalars\u001b[39;00m\n\u001b[0;32m    491\u001b[0m         arrays \u001b[38;5;241m=\u001b[39m [x\u001b[38;5;241m.\u001b[39mcopy() \u001b[38;5;28;01mif\u001b[39;00m \u001b[38;5;28mhasattr\u001b[39m(x, \u001b[38;5;124m\"\u001b[39m\u001b[38;5;124mdtype\u001b[39m\u001b[38;5;124m\"\u001b[39m) \u001b[38;5;28;01melse\u001b[39;00m x \u001b[38;5;28;01mfor\u001b[39;00m x \u001b[38;5;129;01min\u001b[39;00m arrays]\n\u001b[1;32m--> 493\u001b[0m \u001b[38;5;28;01mreturn\u001b[39;00m \u001b[43marrays_to_mgr\u001b[49m\u001b[43m(\u001b[49m\u001b[43marrays\u001b[49m\u001b[43m,\u001b[49m\u001b[43m \u001b[49m\u001b[43mcolumns\u001b[49m\u001b[43m,\u001b[49m\u001b[43m \u001b[49m\u001b[43mindex\u001b[49m\u001b[43m,\u001b[49m\u001b[43m \u001b[49m\u001b[43mdtype\u001b[49m\u001b[38;5;241;43m=\u001b[39;49m\u001b[43mdtype\u001b[49m\u001b[43m,\u001b[49m\u001b[43m \u001b[49m\u001b[43mtyp\u001b[49m\u001b[38;5;241;43m=\u001b[39;49m\u001b[43mtyp\u001b[49m\u001b[43m,\u001b[49m\u001b[43m \u001b[49m\u001b[43mconsolidate\u001b[49m\u001b[38;5;241;43m=\u001b[39;49m\u001b[43mcopy\u001b[49m\u001b[43m)\u001b[49m\n",
      "File \u001b[1;32m~\\anaconda3\\lib\\site-packages\\pandas\\core\\internals\\construction.py:118\u001b[0m, in \u001b[0;36marrays_to_mgr\u001b[1;34m(arrays, columns, index, dtype, verify_integrity, typ, consolidate)\u001b[0m\n\u001b[0;32m    115\u001b[0m \u001b[38;5;28;01mif\u001b[39;00m verify_integrity:\n\u001b[0;32m    116\u001b[0m     \u001b[38;5;66;03m# figure out the index, if necessary\u001b[39;00m\n\u001b[0;32m    117\u001b[0m     \u001b[38;5;28;01mif\u001b[39;00m index \u001b[38;5;129;01mis\u001b[39;00m \u001b[38;5;28;01mNone\u001b[39;00m:\n\u001b[1;32m--> 118\u001b[0m         index \u001b[38;5;241m=\u001b[39m \u001b[43m_extract_index\u001b[49m\u001b[43m(\u001b[49m\u001b[43marrays\u001b[49m\u001b[43m)\u001b[49m\n\u001b[0;32m    119\u001b[0m     \u001b[38;5;28;01melse\u001b[39;00m:\n\u001b[0;32m    120\u001b[0m         index \u001b[38;5;241m=\u001b[39m ensure_index(index)\n",
      "File \u001b[1;32m~\\anaconda3\\lib\\site-packages\\pandas\\core\\internals\\construction.py:656\u001b[0m, in \u001b[0;36m_extract_index\u001b[1;34m(data)\u001b[0m\n\u001b[0;32m    653\u001b[0m         \u001b[38;5;28;01mraise\u001b[39;00m \u001b[38;5;167;01mValueError\u001b[39;00m(\u001b[38;5;124m\"\u001b[39m\u001b[38;5;124mPer-column arrays must each be 1-dimensional\u001b[39m\u001b[38;5;124m\"\u001b[39m)\n\u001b[0;32m    655\u001b[0m \u001b[38;5;28;01mif\u001b[39;00m \u001b[38;5;129;01mnot\u001b[39;00m indexes \u001b[38;5;129;01mand\u001b[39;00m \u001b[38;5;129;01mnot\u001b[39;00m raw_lengths:\n\u001b[1;32m--> 656\u001b[0m     \u001b[38;5;28;01mraise\u001b[39;00m \u001b[38;5;167;01mValueError\u001b[39;00m(\u001b[38;5;124m\"\u001b[39m\u001b[38;5;124mIf using all scalar values, you must pass an index\u001b[39m\u001b[38;5;124m\"\u001b[39m)\n\u001b[0;32m    658\u001b[0m \u001b[38;5;28;01melif\u001b[39;00m have_series:\n\u001b[0;32m    659\u001b[0m     index \u001b[38;5;241m=\u001b[39m union_indexes(indexes)\n",
      "\u001b[1;31mValueError\u001b[0m: If using all scalar values, you must pass an index"
     ]
    }
   ],
   "source": [
    "try:\n",
    "    for keyword in keywords:\n",
    "        browser.get(f\"https://search.wemakeprice.com/search?search_cate=top&keyword={keyword}\")\n",
    "\n",
    "\n",
    "        time.sleep(0.5)\n",
    "        soup = BS(browser.page_source, \"html.parser\")\n",
    "        soup = soup.find_all(class_='list_conts_wrap')\n",
    "\n",
    "        for i in soup:\n",
    "            try:\n",
    "                seller_page_hrefs.append(i.find(\"a\").attrs['href'])\n",
    "            except:\n",
    "                print(i)\n",
    "\n",
    "        ta = browser.find_elements(By.CSS_SELECTOR, 'div.paging_comm > a')\n",
    "        ta[-2].click()\n",
    "\n",
    "        while(True):\n",
    "            time.sleep(1)\n",
    "            soup = BS(browser.page_source, \"html.parser\")\n",
    "            soup = soup.find_all(class_='list_conts_wrap')\n",
    "\n",
    "            for i in soup:\n",
    "                try:\n",
    "                    seller_page_hrefs.append(i.find(\"a\").attrs['href'])\n",
    "                except KeyError:\n",
    "                    print(i)\n",
    "                except:\n",
    "                    print(i)\n",
    "\n",
    "            ta = browser.find_elements(By.CSS_SELECTOR, 'div.paging_comm > a')\n",
    "            if len(ta) < 14: break\n",
    "            try:\n",
    "                ta[-2].click()\n",
    "            except:\n",
    "                break\n",
    "\n",
    "\n",
    "        seller_page_hrefs = list(set(seller_page_hrefs))\n",
    "        print(len(seller_page_hrefs))\n",
    "\n",
    "        c = 0\n",
    "        l = len(seller_page_hrefs)\n",
    "        for i in seller_page_hrefs[133:]:\n",
    "            print(l, c, keyword, i)\n",
    "            c+= 1\n",
    "            try:\n",
    "                browser.get(i)\n",
    "            except:\n",
    "                continue\n",
    "            try:\n",
    "                time.sleep(1)\n",
    "                if 'product' in i:\n",
    "                    print('p')\n",
    "                    find_className(\"tab4\").click()\n",
    "                    time.sleep(1)\n",
    "                elif 'deal' in i: \n",
    "                    print('d')\n",
    "                else:\n",
    "                    print('else')\n",
    "                    continue\n",
    "                ta = finds_className('table_info')\n",
    "                for i in ta:\n",
    "        #             print(i.text, '\\n')\n",
    "                    if '업체명' in i.text:\n",
    "                        tt = i.text.split('\\n')\n",
    "\n",
    "            except Exception as ex:\n",
    "                error.append(ex)\n",
    "                error_i.append(i)\n",
    "            if tt == []:\n",
    "                continue\n",
    "            print('\\t', tt[-1])\n",
    "            print('\\t', tt[1])\n",
    "            print('\\t', tt[2])\n",
    "            print('\\t', tt[4])\n",
    "\n",
    "            try:\n",
    "                if '법인사업자' in tt[-1]: \n",
    "                    print('\\tpass')\n",
    "                    continue\n",
    "                elif '글로벌 사업자' in tt[-1]: \n",
    "                    print('\\tpass')\n",
    "                    continue\n",
    "                final_info[0] = tt[1].split('대표자 ')[1].split('/ ')[1]\n",
    "                final_info[1] = tt[2].split('연락처 ')[1]\n",
    "                final_info[2] = tt[4].split('소재지 ')[1]\n",
    "            except:\n",
    "                print(c-1,i, '\\n', tt)\n",
    "except Exception as ex:\n",
    "    print(ex)\n",
    "    print(datetime.datetime.now().strftime('%Y-%m-%d %H:%M:%S'))\n",
    "                \n",
    "df = pd.DataFrame({'대표자': final_info[0],\n",
    "                  '전화번호': final_info[1],\n",
    "                  '영업소재지': final_info[2]\n",
    "                  })\n",
    "df.to_csv(f'wemap_{keyword}.csv', encoding='utf-8-sig', index = False)\n",
    "print(datetime.datetime.now().strftime('%Y-%m-%d %H:%M:%S'))"
   ]
  },
  {
   "cell_type": "markdown",
   "id": "e19b06bd",
   "metadata": {},
   "source": [
    "-------------------"
   ]
  },
  {
   "cell_type": "code",
   "execution_count": null,
   "id": "c3b24058",
   "metadata": {},
   "outputs": [],
   "source": [
    "2871\n",
    "for i in tt:\n",
    "    print(i)\n",
    "    \n",
    "글로벌 사업자"
   ]
  },
  {
   "cell_type": "code",
   "execution_count": 56,
   "id": "144ff245",
   "metadata": {},
   "outputs": [
    {
     "name": "stdout",
     "output_type": "stream",
     "text": [
      "3\n",
      "13\n",
      "25\n"
     ]
    }
   ],
   "source": [
    "print(len(final_info[0]))\n",
    "print(len(final_info[1]))\n",
    "print(len(final_info[2]))\n"
   ]
  },
  {
   "cell_type": "code",
   "execution_count": 55,
   "id": "f89436d7",
   "metadata": {},
   "outputs": [
    {
     "ename": "ValueError",
     "evalue": "If using all scalar values, you must pass an index",
     "output_type": "error",
     "traceback": [
      "\u001b[1;31m---------------------------------------------------------------------------\u001b[0m",
      "\u001b[1;31mValueError\u001b[0m                                Traceback (most recent call last)",
      "Cell \u001b[1;32mIn[55], line 1\u001b[0m\n\u001b[1;32m----> 1\u001b[0m df \u001b[38;5;241m=\u001b[39m \u001b[43mpd\u001b[49m\u001b[38;5;241;43m.\u001b[39;49m\u001b[43mDataFrame\u001b[49m\u001b[43m(\u001b[49m\u001b[43m{\u001b[49m\u001b[38;5;124;43m'\u001b[39;49m\u001b[38;5;124;43m대표자\u001b[39;49m\u001b[38;5;124;43m'\u001b[39;49m\u001b[43m:\u001b[49m\u001b[43m \u001b[49m\u001b[43mfinal_info\u001b[49m\u001b[43m[\u001b[49m\u001b[38;5;241;43m0\u001b[39;49m\u001b[43m]\u001b[49m\u001b[43m,\u001b[49m\n\u001b[0;32m      2\u001b[0m \u001b[43m                  \u001b[49m\u001b[38;5;124;43m'\u001b[39;49m\u001b[38;5;124;43m전화번호\u001b[39;49m\u001b[38;5;124;43m'\u001b[39;49m\u001b[43m:\u001b[49m\u001b[43m \u001b[49m\u001b[43mfinal_info\u001b[49m\u001b[43m[\u001b[49m\u001b[38;5;241;43m1\u001b[39;49m\u001b[43m]\u001b[49m\u001b[43m,\u001b[49m\n\u001b[0;32m      3\u001b[0m \u001b[43m                  \u001b[49m\u001b[38;5;124;43m'\u001b[39;49m\u001b[38;5;124;43m영업소재지\u001b[39;49m\u001b[38;5;124;43m'\u001b[39;49m\u001b[43m:\u001b[49m\u001b[43m \u001b[49m\u001b[43mfinal_info\u001b[49m\u001b[43m[\u001b[49m\u001b[38;5;241;43m2\u001b[39;49m\u001b[43m]\u001b[49m\n\u001b[0;32m      4\u001b[0m \u001b[43m                  \u001b[49m\u001b[43m}\u001b[49m\u001b[43m)\u001b[49m\n\u001b[0;32m      5\u001b[0m df\u001b[38;5;241m.\u001b[39mto_csv(\u001b[38;5;124mf\u001b[39m\u001b[38;5;124m'\u001b[39m\u001b[38;5;124mwemap_\u001b[39m\u001b[38;5;132;01m{\u001b[39;00mkeyword\u001b[38;5;132;01m}\u001b[39;00m\u001b[38;5;124m.csv\u001b[39m\u001b[38;5;124m'\u001b[39m, encoding\u001b[38;5;241m=\u001b[39m\u001b[38;5;124m'\u001b[39m\u001b[38;5;124mutf-8-sig\u001b[39m\u001b[38;5;124m'\u001b[39m, index \u001b[38;5;241m=\u001b[39m \u001b[38;5;28;01mFalse\u001b[39;00m)\n",
      "File \u001b[1;32m~\\AppData\\Local\\anaconda3\\lib\\site-packages\\pandas\\core\\frame.py:664\u001b[0m, in \u001b[0;36mDataFrame.__init__\u001b[1;34m(self, data, index, columns, dtype, copy)\u001b[0m\n\u001b[0;32m    658\u001b[0m     mgr \u001b[38;5;241m=\u001b[39m \u001b[38;5;28mself\u001b[39m\u001b[38;5;241m.\u001b[39m_init_mgr(\n\u001b[0;32m    659\u001b[0m         data, axes\u001b[38;5;241m=\u001b[39m{\u001b[38;5;124m\"\u001b[39m\u001b[38;5;124mindex\u001b[39m\u001b[38;5;124m\"\u001b[39m: index, \u001b[38;5;124m\"\u001b[39m\u001b[38;5;124mcolumns\u001b[39m\u001b[38;5;124m\"\u001b[39m: columns}, dtype\u001b[38;5;241m=\u001b[39mdtype, copy\u001b[38;5;241m=\u001b[39mcopy\n\u001b[0;32m    660\u001b[0m     )\n\u001b[0;32m    662\u001b[0m \u001b[38;5;28;01melif\u001b[39;00m \u001b[38;5;28misinstance\u001b[39m(data, \u001b[38;5;28mdict\u001b[39m):\n\u001b[0;32m    663\u001b[0m     \u001b[38;5;66;03m# GH#38939 de facto copy defaults to False only in non-dict cases\u001b[39;00m\n\u001b[1;32m--> 664\u001b[0m     mgr \u001b[38;5;241m=\u001b[39m \u001b[43mdict_to_mgr\u001b[49m\u001b[43m(\u001b[49m\u001b[43mdata\u001b[49m\u001b[43m,\u001b[49m\u001b[43m \u001b[49m\u001b[43mindex\u001b[49m\u001b[43m,\u001b[49m\u001b[43m \u001b[49m\u001b[43mcolumns\u001b[49m\u001b[43m,\u001b[49m\u001b[43m \u001b[49m\u001b[43mdtype\u001b[49m\u001b[38;5;241;43m=\u001b[39;49m\u001b[43mdtype\u001b[49m\u001b[43m,\u001b[49m\u001b[43m \u001b[49m\u001b[43mcopy\u001b[49m\u001b[38;5;241;43m=\u001b[39;49m\u001b[43mcopy\u001b[49m\u001b[43m,\u001b[49m\u001b[43m \u001b[49m\u001b[43mtyp\u001b[49m\u001b[38;5;241;43m=\u001b[39;49m\u001b[43mmanager\u001b[49m\u001b[43m)\u001b[49m\n\u001b[0;32m    665\u001b[0m \u001b[38;5;28;01melif\u001b[39;00m \u001b[38;5;28misinstance\u001b[39m(data, ma\u001b[38;5;241m.\u001b[39mMaskedArray):\n\u001b[0;32m    666\u001b[0m     \u001b[38;5;28;01mimport\u001b[39;00m \u001b[38;5;21;01mnumpy\u001b[39;00m\u001b[38;5;21;01m.\u001b[39;00m\u001b[38;5;21;01mma\u001b[39;00m\u001b[38;5;21;01m.\u001b[39;00m\u001b[38;5;21;01mmrecords\u001b[39;00m \u001b[38;5;28;01mas\u001b[39;00m \u001b[38;5;21;01mmrecords\u001b[39;00m\n",
      "File \u001b[1;32m~\\AppData\\Local\\anaconda3\\lib\\site-packages\\pandas\\core\\internals\\construction.py:493\u001b[0m, in \u001b[0;36mdict_to_mgr\u001b[1;34m(data, index, columns, dtype, typ, copy)\u001b[0m\n\u001b[0;32m    489\u001b[0m     \u001b[38;5;28;01melse\u001b[39;00m:\n\u001b[0;32m    490\u001b[0m         \u001b[38;5;66;03m# dtype check to exclude e.g. range objects, scalars\u001b[39;00m\n\u001b[0;32m    491\u001b[0m         arrays \u001b[38;5;241m=\u001b[39m [x\u001b[38;5;241m.\u001b[39mcopy() \u001b[38;5;28;01mif\u001b[39;00m \u001b[38;5;28mhasattr\u001b[39m(x, \u001b[38;5;124m\"\u001b[39m\u001b[38;5;124mdtype\u001b[39m\u001b[38;5;124m\"\u001b[39m) \u001b[38;5;28;01melse\u001b[39;00m x \u001b[38;5;28;01mfor\u001b[39;00m x \u001b[38;5;129;01min\u001b[39;00m arrays]\n\u001b[1;32m--> 493\u001b[0m \u001b[38;5;28;01mreturn\u001b[39;00m \u001b[43marrays_to_mgr\u001b[49m\u001b[43m(\u001b[49m\u001b[43marrays\u001b[49m\u001b[43m,\u001b[49m\u001b[43m \u001b[49m\u001b[43mcolumns\u001b[49m\u001b[43m,\u001b[49m\u001b[43m \u001b[49m\u001b[43mindex\u001b[49m\u001b[43m,\u001b[49m\u001b[43m \u001b[49m\u001b[43mdtype\u001b[49m\u001b[38;5;241;43m=\u001b[39;49m\u001b[43mdtype\u001b[49m\u001b[43m,\u001b[49m\u001b[43m \u001b[49m\u001b[43mtyp\u001b[49m\u001b[38;5;241;43m=\u001b[39;49m\u001b[43mtyp\u001b[49m\u001b[43m,\u001b[49m\u001b[43m \u001b[49m\u001b[43mconsolidate\u001b[49m\u001b[38;5;241;43m=\u001b[39;49m\u001b[43mcopy\u001b[49m\u001b[43m)\u001b[49m\n",
      "File \u001b[1;32m~\\AppData\\Local\\anaconda3\\lib\\site-packages\\pandas\\core\\internals\\construction.py:118\u001b[0m, in \u001b[0;36marrays_to_mgr\u001b[1;34m(arrays, columns, index, dtype, verify_integrity, typ, consolidate)\u001b[0m\n\u001b[0;32m    115\u001b[0m \u001b[38;5;28;01mif\u001b[39;00m verify_integrity:\n\u001b[0;32m    116\u001b[0m     \u001b[38;5;66;03m# figure out the index, if necessary\u001b[39;00m\n\u001b[0;32m    117\u001b[0m     \u001b[38;5;28;01mif\u001b[39;00m index \u001b[38;5;129;01mis\u001b[39;00m \u001b[38;5;28;01mNone\u001b[39;00m:\n\u001b[1;32m--> 118\u001b[0m         index \u001b[38;5;241m=\u001b[39m \u001b[43m_extract_index\u001b[49m\u001b[43m(\u001b[49m\u001b[43marrays\u001b[49m\u001b[43m)\u001b[49m\n\u001b[0;32m    119\u001b[0m     \u001b[38;5;28;01melse\u001b[39;00m:\n\u001b[0;32m    120\u001b[0m         index \u001b[38;5;241m=\u001b[39m ensure_index(index)\n",
      "File \u001b[1;32m~\\AppData\\Local\\anaconda3\\lib\\site-packages\\pandas\\core\\internals\\construction.py:656\u001b[0m, in \u001b[0;36m_extract_index\u001b[1;34m(data)\u001b[0m\n\u001b[0;32m    653\u001b[0m         \u001b[38;5;28;01mraise\u001b[39;00m \u001b[38;5;167;01mValueError\u001b[39;00m(\u001b[38;5;124m\"\u001b[39m\u001b[38;5;124mPer-column arrays must each be 1-dimensional\u001b[39m\u001b[38;5;124m\"\u001b[39m)\n\u001b[0;32m    655\u001b[0m \u001b[38;5;28;01mif\u001b[39;00m \u001b[38;5;129;01mnot\u001b[39;00m indexes \u001b[38;5;129;01mand\u001b[39;00m \u001b[38;5;129;01mnot\u001b[39;00m raw_lengths:\n\u001b[1;32m--> 656\u001b[0m     \u001b[38;5;28;01mraise\u001b[39;00m \u001b[38;5;167;01mValueError\u001b[39;00m(\u001b[38;5;124m\"\u001b[39m\u001b[38;5;124mIf using all scalar values, you must pass an index\u001b[39m\u001b[38;5;124m\"\u001b[39m)\n\u001b[0;32m    658\u001b[0m \u001b[38;5;28;01melif\u001b[39;00m have_series:\n\u001b[0;32m    659\u001b[0m     index \u001b[38;5;241m=\u001b[39m union_indexes(indexes)\n",
      "\u001b[1;31mValueError\u001b[0m: If using all scalar values, you must pass an index"
     ]
    }
   ],
   "source": [
    "df = pd.DataFrame({'대표자': final_info[0],\n",
    "                  '전화번호': final_info[1],\n",
    "                  '영업소재지': final_info[2]\n",
    "                  })\n",
    "df.to_csv(f'wemap_{keyword}.csv', encoding='utf-8-sig', index = False)"
   ]
  },
  {
   "cell_type": "code",
   "execution_count": 32,
   "id": "9ef476dd",
   "metadata": {},
   "outputs": [
    {
     "data": {
      "text/plain": [
       "'사업자 구분 법인사업자'"
      ]
     },
     "execution_count": 32,
     "metadata": {},
     "output_type": "execute_result"
    }
   ],
   "source": [
    "tt[7]"
   ]
  },
  {
   "cell_type": "code",
   "execution_count": 30,
   "id": "f8ff183a",
   "metadata": {
    "collapsed": true
   },
   "outputs": [
    {
     "name": "stdout",
     "output_type": "stream",
     "text": [
      " \n",
      "\n",
      "품명 및 모델명 품명 및 모델명: [상세설명참조] 법에 의한 인증, 허가 등을 받았음을 확인할 수 있는 경우 그에 대한 사항 법에 의한 인증·허가 등을 받았음을 확인할 수 있는 경우 그에 대한 사항: [상세설명참조]\n",
      "제조국 또는 원산지 제조국 또는 원산지: [상세설명참조] 제조자, 수입품의 경우 수입자를 함께 표기 제조자: [상세설명참조]\n",
      "A/S 책임자와 전화번호 또는 소비자상담 관련 전화번호 A/S책임자와 전화번호 또는 소비자상담 관련 전화번호: [상세설명참조] \n",
      "\n",
      "배송비 배송비 3,000원 ㅣ도서산간 배송비 i\n",
      "배송방법/상품 출고일 묶음배송 ㅣ 택배배송 (한진택배) ㅣ당일출고, 12시 이전 결제 건까지 해당\n",
      "(주말, 공휴일 제외)\n",
      "배송가능지역 전국 \n",
      "\n",
      " \n",
      "\n",
      "반품/교환비 교환/반품 배송비 : 편도 3,000원\n",
      "(제주/도서산간 지역의 경우 추가 운임이 발생할 수 있습니다.)\n",
      "교환/반품 가능기간\n",
      "구매자 단순 변심 : 상품 수령일로부터 7일 이내 (배송비:구매자 부담)\n",
      "표시/광고와 상이, 하자 : 수령 후 3개월 이내, 그 사실을 안 날 또는 알 수 있었던 날로부터 30일 이내 (배송비:판매자 부담)\n",
      "교환/반품 제한사항 [반품 기준]\n",
      "상품 수령일로부터 7일 이내라도 제품 사용/설치/훼손된 경우 반품이 불가합니다.\n",
      "가전ㆍ디지털ㆍ가구ㆍ설치 상품\n",
      "- 상품의 고유 시리얼넘버, 보증 라벨, 홀로그램 등이 분리/분실/훼손/유출 된 경우\n",
      "- 상품 설치/장착/전원 연결을 한 경우\n",
      "- 제품의 포장 비닐이 멸실 된 경우\n",
      "- 제품의 박스, 포장 개봉/훼손으로 인해 재판매가 곤란할 정도로 상품 등의 가치가 현저히 감소한 경우\n",
      "각종 도서류ㆍCDㆍDVDㆍ음반ㆍGAME 등\n",
      "- 복제 가능한 상품의 포장 등을 개봉/훼손/멸실 한 경우\n",
      "의류ㆍ잡화\n",
      "- 상품 세탁,수선,착용/택(라벨) 제거,훼손,분리,분실,멸실/구성품 누락 한 경우\n",
      "식품ㆍ계절상품ㆍ화장품\n",
      "- 시간의 경과로 재판매가 곤란할 정도로 상품 등의 가치가 현저히 감소한 경우\n",
      "- 신선식품(냉장/냉동)의 단순변심\n",
      "화장품ㆍ화장지ㆍ세제ㆍ세정ㆍ기타 위생용품 류\n",
      "- 개봉으로 인해 상품의 스티커/포장지가 훼손된 경우 \n",
      "\n",
      "업체명 주식회사 포유코퍼레이션\n",
      "상호 / 대표자 주식회사 포유코퍼레이션 / 김정미\n",
      "연락처 010-2521-1419\n",
      "e-mail 4ucorporation@naver.com\n",
      "사업장 소재지 인천광역시 서구 가좌동 585-17 세양시스템\n",
      "사업자번호 181-86-02655\n",
      "통신판매업 신고번호 제 2022-인천서구-3608호\n",
      "사업자 구분 법인사업자 \n",
      "\n",
      "재화 등의 공급방법 및\n",
      "공급시기 배송방식 및 출고일 등은 상품 상세페이지 참조\n",
      "청약철회 등에 관한\n",
      "사항\n",
      "1. 단순변심, 착오구매 등에 따른 청약철회는 재화 구매 계약 체결에 대한 수신확인 통지 받은 날로부터 7일 이내 가능하며 반품비용은 소비자가 부담함\n",
      "2. 재화 등의 내용이 표시∙광고의 내용과 다르거나 계약내용과 다르게 이행된 경우에는 그 재화 등을 공급받은 날부터 3개월 이내, 그 사실을 안 날 또는 알 수 있었던 날부터 30일 이내에 청약철회 등을 할 수 있으며 반품 비용은 판매자가 부담함\n",
      "3. 단, 상품의 특성과 거래조건에 따라 청약철회가 일부 제한될 수 있으며 청약철회에 소요되는 비용이 다르게 책정될 수 있음 (상품 상세페이지 참조)\n",
      "4. 단순변심, 착오구매 등에 따른 청약철회가 불가능한 경우\n",
      "소비자에게 책임 있는 사유로 ‘재화 등’이 멸실 또는 훼손된 경우\n",
      "시간의 경과에 의하여 재판매가 곤란할 정도로 ‘재화 등’의 가치가 현저히 감소한 경우\n",
      "같은 성능을 지닌 ‘재화 등’으로 복제가 가능한 경우 그 원본인 ‘재화 등’의 포장을 훼손한 경우\n",
      "기타 개별 상품과 관련한 청약철회 기준은 상품 상세페이지 참조\n",
      "5. 미성년자가 구매계약을 체결하는 경우에는 법정대리인이 동의하지 않으면 미성년자 본인 또는 법정대리인이 계약을 취소할 수 있습니다.\n",
      "재화 등의 교환∙반품∙보증과 그 대금 환불 및 환불의 지연에 따른 배상금 지급의 조건∙절차\n",
      "1. 재화 등의 교환∙보증 조건 및 품질보증기준\n",
      "전자상거래 등에서의 소비자보호에 관한 법률 및 관련 규정에 부합하는 기준에 따름\n",
      "일부 상품의 경우 구체적인 교환∙반품∙보증 기준을 상품 상세페이지에 안내\n",
      "2. 주문취소 및 결제대금 환불 신청 방법\n",
      "주문취소 및 결제대금의 환불은 마이페이지 내 신청 및 확인 가능\n",
      "3. 환불의 지연에 따른 배상금 지급의 조건 및 절차\n",
      "전자상거래 등에서의 소비자 보호에 관한 법률 규정에 따라 재화 등을 반환 받은 날로부터 3 영업일 이내에 지급받은 대금의 환급을 정당한 사유 없이 지연하는 경우 연 15%의 지연배상금 청구 가능\n",
      "소비자피해보상의 처리, 재화 등에 대한 불만 처리 및 소비자와 사업자 사이의 분쟁 처리에 관한 사항\n",
      "1. 전자상거래 등에서의 소비자보호에 관한 법률 및 관련규정에 부합하는 기준에 따름\n",
      "2. 마이페이지 내 1:1문의를 통해 문의해주세요.\n",
      "거래에 관한 약관의 내용 또는 확인할 수 있는 방법 사이트 하단의 위메프 이용약관 참조 \n",
      "\n"
     ]
    }
   ],
   "source": [
    "i = seller_page_hrefs[0]\n",
    "browser.get(i)\n",
    "time.sleep(1)\n",
    "if 'product' in i:\n",
    "    find_className(\"tab4\").click()\n",
    "    time.sleep(1)\n",
    "    ta = finds_className('table_info')\n",
    "    for i in ta:\n",
    "        print(i.text, '\\n')\n",
    "        if '업체명' in i.text:\n",
    "            tt = i.text.split('\\n')"
   ]
  },
  {
   "cell_type": "code",
   "execution_count": 27,
   "id": "76227c4f",
   "metadata": {},
   "outputs": [
    {
     "data": {
      "text/plain": [
       "['업체명 주식회사 포유코퍼레이션',\n",
       " '상호 / 대표자 주식회사 포유코퍼레이션 / 김정미',\n",
       " '연락처 010-2521-1419',\n",
       " 'e-mail 4ucorporation@naver.com',\n",
       " '사업장 소재지 인천광역시 서구 가좌동 585-17 세양시스템',\n",
       " '사업자번호 181-86-02655',\n",
       " '통신판매업 신고번호 제 2022-인천서구-3608호',\n",
       " '사업자 구분 법인사업자']"
      ]
     },
     "execution_count": 27,
     "metadata": {},
     "output_type": "execute_result"
    }
   ],
   "source": [
    "tr."
   ]
  },
  {
   "cell_type": "code",
   "execution_count": 19,
   "id": "b67ad4ab",
   "metadata": {},
   "outputs": [],
   "source": [
    "\n",
    "        ta = finds_className('table_info')"
   ]
  },
  {
   "cell_type": "code",
   "execution_count": 21,
   "id": "e84ccb8d",
   "metadata": {},
   "outputs": [
    {
     "name": "stdout",
     "output_type": "stream",
     "text": [
      "0 \n",
      "1 종류 우산 작동방식 수동\n",
      "형태 장우산\n",
      "2 품명 및 모델명 투게이트 24살대 장우산 법에 의한 인증, 허가 등을 받았음을 확인할 수 있는 경우 그에 대한 사항 해당사항없음\n",
      "제조국 또는 원산지 중국 제조자, 수입품의 경우 수입자를 함께 표기 투게이트 OEM\n",
      "A/S 책임자와 전화번호 또는 소비자상담 관련 전화번호 투게이트 070-8846-1520\n",
      "3 배송비 무료배송 ㅣ도서산간 배송비 i\n",
      "배송방법/상품 출고일 묶음배송 ㅣ 택배배송 (CJ대한통운) ㅣ2일 이내 출고\n",
      "(주말, 공휴일 제외)\n",
      "배송가능지역 전국\n",
      "4 \n",
      "5 반품/교환비 교환/반품 배송비 : 편도 2,500원\n",
      "(제주/도서산간 지역의 경우 추가 운임이 발생할 수 있습니다.)\n",
      "교환/반품 가능기간\n",
      "구매자 단순 변심 : 상품 수령일로부터 7일 이내 (배송비:구매자 부담)\n",
      "표시/광고와 상이, 하자 : 수령 후 3개월 이내, 그 사실을 안 날 또는 알 수 있었던 날로부터 30일 이내 (배송비:판매자 부담)\n",
      "교환/반품 제한사항 [반품 기준]\n",
      "상품 수령일로부터 7일 이내라도 제품 사용/설치/훼손된 경우 반품이 불가합니다.\n",
      "가전ㆍ디지털ㆍ가구ㆍ설치 상품\n",
      "- 상품의 고유 시리얼넘버, 보증 라벨, 홀로그램 등이 분리/분실/훼손/유출 된 경우\n",
      "- 상품 설치/장착/전원 연결을 한 경우\n",
      "- 제품의 포장 비닐이 멸실 된 경우\n",
      "- 제품의 박스, 포장 개봉/훼손으로 인해 재판매가 곤란할 정도로 상품 등의 가치가 현저히 감소한 경우\n",
      "각종 도서류ㆍCDㆍDVDㆍ음반ㆍGAME 등\n",
      "- 복제 가능한 상품의 포장 등을 개봉/훼손/멸실 한 경우\n",
      "의류ㆍ잡화\n",
      "- 상품 세탁,수선,착용/택(라벨) 제거,훼손,분리,분실,멸실/구성품 누락 한 경우\n",
      "식품ㆍ계절상품ㆍ화장품\n",
      "- 시간의 경과로 재판매가 곤란할 정도로 상품 등의 가치가 현저히 감소한 경우\n",
      "- 신선식품(냉장/냉동)의 단순변심\n",
      "화장품ㆍ화장지ㆍ세제ㆍ세정ㆍ기타 위생용품 류\n",
      "- 개봉으로 인해 상품의 스티커/포장지가 훼손된 경우\n",
      "6 업체명 투게이트\n",
      "상호 / 대표자 투게이트 / 임효문\n",
      "연락처 070-8846-1520\n",
      "e-mail deddagre@naver.com\n",
      "사업장 소재지 경기도 포천시 소흘읍 이가팔리 60-2 투게이트\n",
      "사업자번호 337-23-00779\n",
      "통신판매업 신고번호 2019-경기포천-0239\n",
      "사업자 구분 일반과세자\n",
      "7 재화 등의 공급방법 및\n",
      "공급시기 배송방식 및 출고일 등은 상품 상세페이지 참조\n",
      "청약철회 등에 관한\n",
      "사항\n",
      "1. 단순변심, 착오구매 등에 따른 청약철회는 재화 구매 계약 체결에 대한 수신확인 통지 받은 날로부터 7일 이내 가능하며 반품비용은 소비자가 부담함\n",
      "2. 재화 등의 내용이 표시∙광고의 내용과 다르거나 계약내용과 다르게 이행된 경우에는 그 재화 등을 공급받은 날부터 3개월 이내, 그 사실을 안 날 또는 알 수 있었던 날부터 30일 이내에 청약철회 등을 할 수 있으며 반품 비용은 판매자가 부담함\n",
      "3. 단, 상품의 특성과 거래조건에 따라 청약철회가 일부 제한될 수 있으며 청약철회에 소요되는 비용이 다르게 책정될 수 있음 (상품 상세페이지 참조)\n",
      "4. 단순변심, 착오구매 등에 따른 청약철회가 불가능한 경우\n",
      "소비자에게 책임 있는 사유로 ‘재화 등’이 멸실 또는 훼손된 경우\n",
      "시간의 경과에 의하여 재판매가 곤란할 정도로 ‘재화 등’의 가치가 현저히 감소한 경우\n",
      "같은 성능을 지닌 ‘재화 등’으로 복제가 가능한 경우 그 원본인 ‘재화 등’의 포장을 훼손한 경우\n",
      "기타 개별 상품과 관련한 청약철회 기준은 상품 상세페이지 참조\n",
      "5. 미성년자가 구매계약을 체결하는 경우에는 법정대리인이 동의하지 않으면 미성년자 본인 또는 법정대리인이 계약을 취소할 수 있습니다.\n",
      "재화 등의 교환∙반품∙보증과 그 대금 환불 및 환불의 지연에 따른 배상금 지급의 조건∙절차\n",
      "1. 재화 등의 교환∙보증 조건 및 품질보증기준\n",
      "전자상거래 등에서의 소비자보호에 관한 법률 및 관련 규정에 부합하는 기준에 따름\n",
      "일부 상품의 경우 구체적인 교환∙반품∙보증 기준을 상품 상세페이지에 안내\n",
      "2. 주문취소 및 결제대금 환불 신청 방법\n",
      "주문취소 및 결제대금의 환불은 마이페이지 내 신청 및 확인 가능\n",
      "3. 환불의 지연에 따른 배상금 지급의 조건 및 절차\n",
      "전자상거래 등에서의 소비자 보호에 관한 법률 규정에 따라 재화 등을 반환 받은 날로부터 3 영업일 이내에 지급받은 대금의 환급을 정당한 사유 없이 지연하는 경우 연 15%의 지연배상금 청구 가능\n",
      "소비자피해보상의 처리, 재화 등에 대한 불만 처리 및 소비자와 사업자 사이의 분쟁 처리에 관한 사항\n",
      "1. 전자상거래 등에서의 소비자보호에 관한 법률 및 관련규정에 부합하는 기준에 따름\n",
      "2. 마이페이지 내 1:1문의를 통해 문의해주세요.\n",
      "거래에 관한 약관의 내용 또는 확인할 수 있는 방법 사이트 하단의 위메프 이용약관 참조\n"
     ]
    }
   ],
   "source": [
    "for i in range(0, len(ta)):\n",
    "    print(i, ta[i].text)"
   ]
  },
  {
   "cell_type": "code",
   "execution_count": 63,
   "id": "8a43c680",
   "metadata": {},
   "outputs": [],
   "source": [
    "browser.get('https://front.wemakeprice.com/deal/629011276?search_keyword=%25EC%259A%25B0%25EC%2582%25B0&_service=5&_no=31')"
   ]
  },
  {
   "cell_type": "code",
   "execution_count": 62,
   "id": "119eca18",
   "metadata": {},
   "outputs": [
    {
     "ename": "NoSuchElementException",
     "evalue": "Message: no such element: Unable to locate element: {\"method\":\"css selector\",\"selector\":\".tab4\"}\n  (Session info: chrome=114.0.5735.199); For documentation on this error, please visit: https://www.selenium.dev/documentation/webdriver/troubleshooting/errors#no-such-element-exception\nStacktrace:\nBacktrace:\n\tGetHandleVerifier [0x0086A813+48355]\n\t(No symbol) [0x007FC4B1]\n\t(No symbol) [0x00705358]\n\t(No symbol) [0x007309A5]\n\t(No symbol) [0x00730B3B]\n\t(No symbol) [0x0075E232]\n\t(No symbol) [0x0074A784]\n\t(No symbol) [0x0075C922]\n\t(No symbol) [0x0074A536]\n\t(No symbol) [0x007282DC]\n\t(No symbol) [0x007293DD]\n\tGetHandleVerifier [0x00ACAABD+2539405]\n\tGetHandleVerifier [0x00B0A78F+2800735]\n\tGetHandleVerifier [0x00B0456C+2775612]\n\tGetHandleVerifier [0x008F51E0+616112]\n\t(No symbol) [0x00805F8C]\n\t(No symbol) [0x00802328]\n\t(No symbol) [0x0080240B]\n\t(No symbol) [0x007F4FF7]\n\tBaseThreadInitThunk [0x751900C9+25]\n\tRtlGetAppContainerNamedObjectPath [0x77147B4E+286]\n\tRtlGetAppContainerNamedObjectPath [0x77147B1E+238]\n",
     "output_type": "error",
     "traceback": [
      "\u001b[1;31m---------------------------------------------------------------------------\u001b[0m",
      "\u001b[1;31mNoSuchElementException\u001b[0m                    Traceback (most recent call last)",
      "Cell \u001b[1;32mIn[62], line 1\u001b[0m\n\u001b[1;32m----> 1\u001b[0m \u001b[43mfind_className\u001b[49m\u001b[43m(\u001b[49m\u001b[38;5;124;43m\"\u001b[39;49m\u001b[38;5;124;43mtab4\u001b[39;49m\u001b[38;5;124;43m\"\u001b[39;49m\u001b[43m)\u001b[49m\u001b[38;5;241m.\u001b[39mclick()\n",
      "Cell \u001b[1;32mIn[2], line 15\u001b[0m, in \u001b[0;36mfind_className\u001b[1;34m(cn)\u001b[0m\n\u001b[0;32m     14\u001b[0m \u001b[38;5;28;01mdef\u001b[39;00m \u001b[38;5;21mfind_className\u001b[39m(cn):\n\u001b[1;32m---> 15\u001b[0m     \u001b[38;5;28;01mreturn\u001b[39;00m \u001b[43mbrowser\u001b[49m\u001b[38;5;241;43m.\u001b[39;49m\u001b[43mfind_element\u001b[49m\u001b[43m(\u001b[49m\u001b[43mBy\u001b[49m\u001b[38;5;241;43m.\u001b[39;49m\u001b[43mCLASS_NAME\u001b[49m\u001b[43m,\u001b[49m\u001b[43m \u001b[49m\u001b[43mcn\u001b[49m\u001b[43m)\u001b[49m\n",
      "File \u001b[1;32m~\\AppData\\Local\\anaconda3\\lib\\site-packages\\selenium\\webdriver\\remote\\webdriver.py:740\u001b[0m, in \u001b[0;36mWebDriver.find_element\u001b[1;34m(self, by, value)\u001b[0m\n\u001b[0;32m    737\u001b[0m     by \u001b[38;5;241m=\u001b[39m By\u001b[38;5;241m.\u001b[39mCSS_SELECTOR\n\u001b[0;32m    738\u001b[0m     value \u001b[38;5;241m=\u001b[39m \u001b[38;5;124mf\u001b[39m\u001b[38;5;124m'\u001b[39m\u001b[38;5;124m[name=\u001b[39m\u001b[38;5;124m\"\u001b[39m\u001b[38;5;132;01m{\u001b[39;00mvalue\u001b[38;5;132;01m}\u001b[39;00m\u001b[38;5;124m\"\u001b[39m\u001b[38;5;124m]\u001b[39m\u001b[38;5;124m'\u001b[39m\n\u001b[1;32m--> 740\u001b[0m \u001b[38;5;28;01mreturn\u001b[39;00m \u001b[38;5;28;43mself\u001b[39;49m\u001b[38;5;241;43m.\u001b[39;49m\u001b[43mexecute\u001b[49m\u001b[43m(\u001b[49m\u001b[43mCommand\u001b[49m\u001b[38;5;241;43m.\u001b[39;49m\u001b[43mFIND_ELEMENT\u001b[49m\u001b[43m,\u001b[49m\u001b[43m \u001b[49m\u001b[43m{\u001b[49m\u001b[38;5;124;43m\"\u001b[39;49m\u001b[38;5;124;43musing\u001b[39;49m\u001b[38;5;124;43m\"\u001b[39;49m\u001b[43m:\u001b[49m\u001b[43m \u001b[49m\u001b[43mby\u001b[49m\u001b[43m,\u001b[49m\u001b[43m \u001b[49m\u001b[38;5;124;43m\"\u001b[39;49m\u001b[38;5;124;43mvalue\u001b[39;49m\u001b[38;5;124;43m\"\u001b[39;49m\u001b[43m:\u001b[49m\u001b[43m \u001b[49m\u001b[43mvalue\u001b[49m\u001b[43m}\u001b[49m\u001b[43m)\u001b[49m[\u001b[38;5;124m\"\u001b[39m\u001b[38;5;124mvalue\u001b[39m\u001b[38;5;124m\"\u001b[39m]\n",
      "File \u001b[1;32m~\\AppData\\Local\\anaconda3\\lib\\site-packages\\selenium\\webdriver\\remote\\webdriver.py:346\u001b[0m, in \u001b[0;36mWebDriver.execute\u001b[1;34m(self, driver_command, params)\u001b[0m\n\u001b[0;32m    344\u001b[0m response \u001b[38;5;241m=\u001b[39m \u001b[38;5;28mself\u001b[39m\u001b[38;5;241m.\u001b[39mcommand_executor\u001b[38;5;241m.\u001b[39mexecute(driver_command, params)\n\u001b[0;32m    345\u001b[0m \u001b[38;5;28;01mif\u001b[39;00m response:\n\u001b[1;32m--> 346\u001b[0m     \u001b[38;5;28;43mself\u001b[39;49m\u001b[38;5;241;43m.\u001b[39;49m\u001b[43merror_handler\u001b[49m\u001b[38;5;241;43m.\u001b[39;49m\u001b[43mcheck_response\u001b[49m\u001b[43m(\u001b[49m\u001b[43mresponse\u001b[49m\u001b[43m)\u001b[49m\n\u001b[0;32m    347\u001b[0m     response[\u001b[38;5;124m\"\u001b[39m\u001b[38;5;124mvalue\u001b[39m\u001b[38;5;124m\"\u001b[39m] \u001b[38;5;241m=\u001b[39m \u001b[38;5;28mself\u001b[39m\u001b[38;5;241m.\u001b[39m_unwrap_value(response\u001b[38;5;241m.\u001b[39mget(\u001b[38;5;124m\"\u001b[39m\u001b[38;5;124mvalue\u001b[39m\u001b[38;5;124m\"\u001b[39m, \u001b[38;5;28;01mNone\u001b[39;00m))\n\u001b[0;32m    348\u001b[0m     \u001b[38;5;28;01mreturn\u001b[39;00m response\n",
      "File \u001b[1;32m~\\AppData\\Local\\anaconda3\\lib\\site-packages\\selenium\\webdriver\\remote\\errorhandler.py:245\u001b[0m, in \u001b[0;36mErrorHandler.check_response\u001b[1;34m(self, response)\u001b[0m\n\u001b[0;32m    243\u001b[0m         alert_text \u001b[38;5;241m=\u001b[39m value[\u001b[38;5;124m\"\u001b[39m\u001b[38;5;124malert\u001b[39m\u001b[38;5;124m\"\u001b[39m]\u001b[38;5;241m.\u001b[39mget(\u001b[38;5;124m\"\u001b[39m\u001b[38;5;124mtext\u001b[39m\u001b[38;5;124m\"\u001b[39m)\n\u001b[0;32m    244\u001b[0m     \u001b[38;5;28;01mraise\u001b[39;00m exception_class(message, screen, stacktrace, alert_text)  \u001b[38;5;66;03m# type: ignore[call-arg]  # mypy is not smart enough here\u001b[39;00m\n\u001b[1;32m--> 245\u001b[0m \u001b[38;5;28;01mraise\u001b[39;00m exception_class(message, screen, stacktrace)\n",
      "\u001b[1;31mNoSuchElementException\u001b[0m: Message: no such element: Unable to locate element: {\"method\":\"css selector\",\"selector\":\".tab4\"}\n  (Session info: chrome=114.0.5735.199); For documentation on this error, please visit: https://www.selenium.dev/documentation/webdriver/troubleshooting/errors#no-such-element-exception\nStacktrace:\nBacktrace:\n\tGetHandleVerifier [0x0086A813+48355]\n\t(No symbol) [0x007FC4B1]\n\t(No symbol) [0x00705358]\n\t(No symbol) [0x007309A5]\n\t(No symbol) [0x00730B3B]\n\t(No symbol) [0x0075E232]\n\t(No symbol) [0x0074A784]\n\t(No symbol) [0x0075C922]\n\t(No symbol) [0x0074A536]\n\t(No symbol) [0x007282DC]\n\t(No symbol) [0x007293DD]\n\tGetHandleVerifier [0x00ACAABD+2539405]\n\tGetHandleVerifier [0x00B0A78F+2800735]\n\tGetHandleVerifier [0x00B0456C+2775612]\n\tGetHandleVerifier [0x008F51E0+616112]\n\t(No symbol) [0x00805F8C]\n\t(No symbol) [0x00802328]\n\t(No symbol) [0x0080240B]\n\t(No symbol) [0x007F4FF7]\n\tBaseThreadInitThunk [0x751900C9+25]\n\tRtlGetAppContainerNamedObjectPath [0x77147B4E+286]\n\tRtlGetAppContainerNamedObjectPath [0x77147B1E+238]\n"
     ]
    }
   ],
   "source": [
    "find_className(\"tab4\").click()"
   ]
  },
  {
   "cell_type": "code",
   "execution_count": 64,
   "id": "dee83b2d",
   "metadata": {},
   "outputs": [],
   "source": [
    "tt = finds_className('table_info')"
   ]
  },
  {
   "cell_type": "code",
   "execution_count": 65,
   "id": "70731c9a",
   "metadata": {
    "scrolled": true
   },
   "outputs": [
    {
     "name": "stdout",
     "output_type": "stream",
     "text": [
      "0 \n",
      "\n",
      "1 제품 주소재(운동화인 경우에는 겉감, 안감을 구분하여 표시) 제품의 주소재 상세설명참조 색상 색상 상세설명참조\n",
      "치수(발길이: 해외사이즈 표기시 구내사이즈 병행 표기/mm) (굽높이/굽 재료를 사용하는 여성화에 한함/cm) 발길이 상세설명참조 / 굽높이 상세설명참조 제조자, 수입품의 경우 수입자를 함께 표기(병행수입의 경우 병행수입 여부로 대체 가능) 제조자 상세설명참조 / 수입자 상세설명참조\n",
      "제조국 제조국 상세설명참조 취급시 주의사항 취급시 주의사항 상세설명참조\n",
      "품질보증기준 품질보증기준 상세설명참조 A/S 책임자와 전화번호 A/S 책임자와 전화번호 상세설명참조\n",
      "\n",
      "2 제품 주소재(운동화인 경우에는 겉감, 안감을 구분하여 표시) 제품의 주소재 겉감 폴리염화비닐 / 안감 폴리에스터 100% 색상 색상 상세페이지 참조\n",
      "치수(발길이: 해외사이즈 표기시 구내사이즈 병행 표기/mm) (굽높이/굽 재료를 사용하는 여성화에 한함/cm) 발길이 상세페이지 참조 / 굽높이 상세페이지 참조 제조자, 수입품의 경우 수입자를 함께 표기(병행수입의 경우 병행수입 여부로 대체 가능) 제조자 상세페이지 참조 / 수입자 상세페이지 참조\n",
      "제조국 제조국 상세페이지 참조 취급시 주의사항 취급시 주의사항 상세페이지 참조\n",
      "품질보증기준 품질보증기준 상세페이지 참조 A/S 책임자와 전화번호 A/S 책임자와 전화번호 상세페이지 참조\n",
      "\n",
      "3 [어린이제품] 상세설명에 별도표기\n",
      "[생활용품] 상세설명에 별도표기\n",
      "[전기용품] 상세설명에 별도표기\n",
      "[방송통신기자재] 상세설명에 별도표기\n",
      "\n",
      "4 배송비 무료배송 ㅣ도서산간 배송비 i\n",
      "배송방법/상품 출고일 묶음배송 ㅣ 택배배송 (CJ대한통운) ㅣ2일 이내 출고\n",
      "(주말, 공휴일 제외)\n",
      "배송가능지역 전국\n",
      "\n",
      "5 \n",
      "\n",
      "6 반품/교환비 교환/반품 배송비 : 편도 3,000원\n",
      "(제주/도서산간 지역의 경우 추가 운임이 발생할 수 있습니다.)\n",
      "교환/반품 가능기간\n",
      "구매자 단순 변심 : 상품 수령일로부터 7일 이내 (배송비:구매자 부담)\n",
      "표시/광고와 상이, 하자 : 수령 후 3개월 이내, 그 사실을 안 날 또는 알 수 있었던 날로부터 30일 이내 (배송비:판매자 부담)\n",
      "교환/반품 제한사항 [반품 기준]\n",
      "상품 수령일로부터 7일 이내라도 제품 사용/설치/훼손된 경우 반품이 불가합니다.\n",
      "가전ㆍ디지털ㆍ가구ㆍ설치 상품\n",
      "- 상품의 고유 시리얼넘버, 보증 라벨, 홀로그램 등이 분리/분실/훼손/유출 된 경우\n",
      "- 상품 설치/장착/전원 연결을 한 경우\n",
      "- 제품의 포장 비닐이 멸실 된 경우\n",
      "- 제품의 박스, 포장 개봉/훼손으로 인해 재판매가 곤란할 정도로 상품 등의 가치가 현저히 감소한 경우\n",
      "각종 도서류ㆍCDㆍDVDㆍ음반ㆍGAME 등\n",
      "- 복제 가능한 상품의 포장 등을 개봉/훼손/멸실 한 경우\n",
      "의류ㆍ잡화\n",
      "- 상품 세탁,수선,착용/택(라벨) 제거,훼손,분리,분실,멸실/구성품 누락 한 경우\n",
      "식품ㆍ계절상품ㆍ화장품\n",
      "- 시간의 경과로 재판매가 곤란할 정도로 상품 등의 가치가 현저히 감소한 경우\n",
      "- 신선식품(냉장/냉동)의 단순변심\n",
      "화장품ㆍ화장지ㆍ세제ㆍ세정ㆍ기타 위생용품 류\n",
      "- 개봉으로 인해 상품의 스티커/포장지가 훼손된 경우\n",
      "\n",
      "7 업체명 주식회사 제이에스글로벌\n",
      "상호 / 대표자 주식회사 제이에스글로벌 / 김은경\n",
      "연락처 070-8610-6562\n",
      "e-mail pg1591@nate.com\n",
      "사업장 소재지 경기도 용인시 처인구 모현읍 오산리 262-6 제이에스글로벌\n",
      "사업자번호 142-81-68792\n",
      "통신판매업 신고번호 2014-용인처인-0071\n",
      "사업자 구분 법인사업자\n",
      "\n",
      "8 재화 등의 공급방법 및\n",
      "공급시기 배송방식 및 출고일 등은 상품 상세페이지 참조\n",
      "청약철회 등에 관한\n",
      "사항\n",
      "1. 단순변심, 착오구매 등에 따른 청약철회는 재화 구매 계약 체결에 대한 수신확인 통지 받은 날로부터 7일 이내 가능하며 반품비용은 소비자가 부담함\n",
      "2. 재화 등의 내용이 표시∙광고의 내용과 다르거나 계약내용과 다르게 이행된 경우에는 그 재화 등을 공급받은 날부터 3개월 이내, 그 사실을 안 날 또는 알 수 있었던 날부터 30일 이내에 청약철회 등을 할 수 있으며 반품 비용은 판매자가 부담함\n",
      "3. 단, 상품의 특성과 거래조건에 따라 청약철회가 일부 제한될 수 있으며 청약철회에 소요되는 비용이 다르게 책정될 수 있음 (상품 상세페이지 참조)\n",
      "4. 단순변심, 착오구매 등에 따른 청약철회가 불가능한 경우\n",
      "소비자에게 책임 있는 사유로 ‘재화 등’이 멸실 또는 훼손된 경우\n",
      "시간의 경과에 의하여 재판매가 곤란할 정도로 ‘재화 등’의 가치가 현저히 감소한 경우\n",
      "같은 성능을 지닌 ‘재화 등’으로 복제가 가능한 경우 그 원본인 ‘재화 등’의 포장을 훼손한 경우\n",
      "기타 개별 상품과 관련한 청약철회 기준은 상품 상세페이지 참조\n",
      "5. 미성년자가 구매계약을 체결하는 경우에는 법정대리인이 동의하지 않으면 미성년자 본인 또는 법정대리인이 계약을 취소할 수 있습니다.\n",
      "재화 등의 교환∙반품∙보증과 그 대금 환불 및 환불의 지연에 따른 배상금 지급의 조건∙절차\n",
      "1. 재화 등의 교환∙보증 조건 및 품질보증기준\n",
      "전자상거래 등에서의 소비자보호에 관한 법률 및 관련 규정에 부합하는 기준에 따름\n",
      "일부 상품의 경우 구체적인 교환∙반품∙보증 기준을 상품 상세페이지에 안내\n",
      "2. 주문취소 및 결제대금 환불 신청 방법\n",
      "주문취소 및 결제대금의 환불은 마이페이지 내 신청 및 확인 가능\n",
      "3. 환불의 지연에 따른 배상금 지급의 조건 및 절차\n",
      "전자상거래 등에서의 소비자 보호에 관한 법률 규정에 따라 재화 등을 반환 받은 날로부터 3 영업일 이내에 지급받은 대금의 환급을 정당한 사유 없이 지연하는 경우 연 15%의 지연배상금 청구 가능\n",
      "소비자피해보상의 처리, 재화 등에 대한 불만 처리 및 소비자와 사업자 사이의 분쟁 처리에 관한 사항\n",
      "1. 전자상거래 등에서의 소비자보호에 관한 법률 및 관련규정에 부합하는 기준에 따름\n",
      "2. 마이페이지 내 1:1문의를 통해 문의해주세요.\n",
      "거래에 관한 약관의 내용 또는 확인할 수 있는 방법 사이트 하단의 위메프 이용약관 참조\n",
      "\n"
     ]
    }
   ],
   "source": [
    "for i in range(0, len(tt)):\n",
    "    print(i, tt[i].text)\n",
    "    print()"
   ]
  },
  {
   "cell_type": "code",
   "execution_count": 35,
   "id": "b289bc00",
   "metadata": {},
   "outputs": [
    {
     "data": {
      "text/plain": [
       "'업체명 (주)포케이\\n상호 / 대표자 포케이 / 김상민\\n연락처 031-1599-8613\\ne-mail mins0486@nate.com\\n사업장 소재지 경기도 의정부시 녹양동 412-1 부윤빌딩 2층 유레카\\n사업자번호 776-86-00488\\n통신판매업 신고번호 2016-경기의정부-0386\\n사업자 구분 법인사업자'"
      ]
     },
     "execution_count": 35,
     "metadata": {},
     "output_type": "execute_result"
    }
   ],
   "source": [
    "tt[5].text"
   ]
  },
  {
   "cell_type": "code",
   "execution_count": 23,
   "id": "cf4b7f06",
   "metadata": {
    "scrolled": true
   },
   "outputs": [
    {
     "ename": "AttributeError",
     "evalue": "'WebElement' object has no attribute 'split'",
     "output_type": "error",
     "traceback": [
      "\u001b[1;31m---------------------------------------------------------------------------\u001b[0m",
      "\u001b[1;31mAttributeError\u001b[0m                            Traceback (most recent call last)",
      "Cell \u001b[1;32mIn[23], line 1\u001b[0m\n\u001b[1;32m----> 1\u001b[0m \u001b[38;5;28mprint\u001b[39m(\u001b[43mtt\u001b[49m\u001b[43m[\u001b[49m\u001b[38;5;241;43m1\u001b[39;49m\u001b[43m]\u001b[49m\u001b[38;5;241;43m.\u001b[39;49m\u001b[43msplit\u001b[49m(\u001b[38;5;124m'\u001b[39m\u001b[38;5;124m/ \u001b[39m\u001b[38;5;124m'\u001b[39m)[\u001b[38;5;241m2\u001b[39m])\n\u001b[0;32m      2\u001b[0m \u001b[38;5;28mprint\u001b[39m(tt[\u001b[38;5;241m2\u001b[39m]\u001b[38;5;241m.\u001b[39msplit(\u001b[38;5;124m'\u001b[39m\u001b[38;5;124m연락처 \u001b[39m\u001b[38;5;124m'\u001b[39m)[\u001b[38;5;241m1\u001b[39m])\n\u001b[0;32m      3\u001b[0m \u001b[38;5;28mprint\u001b[39m(tt[\u001b[38;5;241m4\u001b[39m]\u001b[38;5;241m.\u001b[39msplit(\u001b[38;5;124m'\u001b[39m\u001b[38;5;124m소재지 \u001b[39m\u001b[38;5;124m'\u001b[39m)[\u001b[38;5;241m1\u001b[39m])\n",
      "\u001b[1;31mAttributeError\u001b[0m: 'WebElement' object has no attribute 'split'"
     ]
    }
   ],
   "source": [
    "print(tt[1].split('/ ')[2])\n",
    "print(tt[2].split('연락처 ')[1])\n",
    "print(tt[4].split('소재지 ')[1])"
   ]
  },
  {
   "cell_type": "code",
   "execution_count": 181,
   "id": "e07bfc5b",
   "metadata": {
    "collapsed": true
   },
   "outputs": [
    {
     "ename": "NoSuchElementException",
     "evalue": "Message: no such element: Unable to locate element: {\"method\":\"css selector\",\"selector\":\".store_info\"}\n  (Session info: chrome=114.0.5735.199); For documentation on this error, please visit: https://www.selenium.dev/documentation/webdriver/troubleshooting/errors#no-such-element-exception\nStacktrace:\nBacktrace:\n\tGetHandleVerifier [0x0098A813+48355]\n\t(No symbol) [0x0091C4B1]\n\t(No symbol) [0x00825358]\n\t(No symbol) [0x008509A5]\n\t(No symbol) [0x00850B3B]\n\t(No symbol) [0x0087E232]\n\t(No symbol) [0x0086A784]\n\t(No symbol) [0x0087C922]\n\t(No symbol) [0x0086A536]\n\t(No symbol) [0x008482DC]\n\t(No symbol) [0x008493DD]\n\tGetHandleVerifier [0x00BEAABD+2539405]\n\tGetHandleVerifier [0x00C2A78F+2800735]\n\tGetHandleVerifier [0x00C2456C+2775612]\n\tGetHandleVerifier [0x00A151E0+616112]\n\t(No symbol) [0x00925F8C]\n\t(No symbol) [0x00922328]\n\t(No symbol) [0x0092240B]\n\t(No symbol) [0x00914FF7]\n\tBaseThreadInitThunk [0x774A00C9+25]\n\tRtlGetAppContainerNamedObjectPath [0x77BE7B4E+286]\n\tRtlGetAppContainerNamedObjectPath [0x77BE7B1E+238]\n",
     "output_type": "error",
     "traceback": [
      "\u001b[1;31m---------------------------------------------------------------------------\u001b[0m",
      "\u001b[1;31mNoSuchElementException\u001b[0m                    Traceback (most recent call last)",
      "Cell \u001b[1;32mIn[181], line 5\u001b[0m\n\u001b[0;32m      3\u001b[0m browser\u001b[38;5;241m.\u001b[39mget(i)    \n\u001b[0;32m      4\u001b[0m time\u001b[38;5;241m.\u001b[39msleep(\u001b[38;5;241m0.5\u001b[39m)\n\u001b[1;32m----> 5\u001b[0m s_info \u001b[38;5;241m=\u001b[39m \u001b[43mfind_className\u001b[49m\u001b[43m(\u001b[49m\u001b[38;5;124;43m\"\u001b[39;49m\u001b[38;5;124;43mstore_info\u001b[39;49m\u001b[38;5;124;43m\"\u001b[39;49m\u001b[43m)\u001b[49m\u001b[38;5;241m.\u001b[39mclick()\n\u001b[0;32m      6\u001b[0m string \u001b[38;5;241m=\u001b[39m find_className(\u001b[38;5;124m\"\u001b[39m\u001b[38;5;124mstore_info_detail\u001b[39m\u001b[38;5;124m\"\u001b[39m)\u001b[38;5;241m.\u001b[39mtext\u001b[38;5;241m.\u001b[39msplit(\u001b[38;5;124m'\u001b[39m\u001b[38;5;130;01m\\n\u001b[39;00m\u001b[38;5;124m'\u001b[39m)\n\u001b[0;32m      7\u001b[0m seller_info\u001b[38;5;241m.\u001b[39mappend(string)\n",
      "Cell \u001b[1;32mIn[20], line 15\u001b[0m, in \u001b[0;36mfind_className\u001b[1;34m(cn)\u001b[0m\n\u001b[0;32m     14\u001b[0m \u001b[38;5;28;01mdef\u001b[39;00m \u001b[38;5;21mfind_className\u001b[39m(cn):\n\u001b[1;32m---> 15\u001b[0m     \u001b[38;5;28;01mreturn\u001b[39;00m \u001b[43mbrowser\u001b[49m\u001b[38;5;241;43m.\u001b[39;49m\u001b[43mfind_element\u001b[49m\u001b[43m(\u001b[49m\u001b[43mBy\u001b[49m\u001b[38;5;241;43m.\u001b[39;49m\u001b[43mCLASS_NAME\u001b[49m\u001b[43m,\u001b[49m\u001b[43m \u001b[49m\u001b[43mcn\u001b[49m\u001b[43m)\u001b[49m\n",
      "File \u001b[1;32m~\\AppData\\Local\\anaconda3\\lib\\site-packages\\selenium\\webdriver\\remote\\webdriver.py:740\u001b[0m, in \u001b[0;36mWebDriver.find_element\u001b[1;34m(self, by, value)\u001b[0m\n\u001b[0;32m    737\u001b[0m     by \u001b[38;5;241m=\u001b[39m By\u001b[38;5;241m.\u001b[39mCSS_SELECTOR\n\u001b[0;32m    738\u001b[0m     value \u001b[38;5;241m=\u001b[39m \u001b[38;5;124mf\u001b[39m\u001b[38;5;124m'\u001b[39m\u001b[38;5;124m[name=\u001b[39m\u001b[38;5;124m\"\u001b[39m\u001b[38;5;132;01m{\u001b[39;00mvalue\u001b[38;5;132;01m}\u001b[39;00m\u001b[38;5;124m\"\u001b[39m\u001b[38;5;124m]\u001b[39m\u001b[38;5;124m'\u001b[39m\n\u001b[1;32m--> 740\u001b[0m \u001b[38;5;28;01mreturn\u001b[39;00m \u001b[38;5;28;43mself\u001b[39;49m\u001b[38;5;241;43m.\u001b[39;49m\u001b[43mexecute\u001b[49m\u001b[43m(\u001b[49m\u001b[43mCommand\u001b[49m\u001b[38;5;241;43m.\u001b[39;49m\u001b[43mFIND_ELEMENT\u001b[49m\u001b[43m,\u001b[49m\u001b[43m \u001b[49m\u001b[43m{\u001b[49m\u001b[38;5;124;43m\"\u001b[39;49m\u001b[38;5;124;43musing\u001b[39;49m\u001b[38;5;124;43m\"\u001b[39;49m\u001b[43m:\u001b[49m\u001b[43m \u001b[49m\u001b[43mby\u001b[49m\u001b[43m,\u001b[49m\u001b[43m \u001b[49m\u001b[38;5;124;43m\"\u001b[39;49m\u001b[38;5;124;43mvalue\u001b[39;49m\u001b[38;5;124;43m\"\u001b[39;49m\u001b[43m:\u001b[49m\u001b[43m \u001b[49m\u001b[43mvalue\u001b[49m\u001b[43m}\u001b[49m\u001b[43m)\u001b[49m[\u001b[38;5;124m\"\u001b[39m\u001b[38;5;124mvalue\u001b[39m\u001b[38;5;124m\"\u001b[39m]\n",
      "File \u001b[1;32m~\\AppData\\Local\\anaconda3\\lib\\site-packages\\selenium\\webdriver\\remote\\webdriver.py:346\u001b[0m, in \u001b[0;36mWebDriver.execute\u001b[1;34m(self, driver_command, params)\u001b[0m\n\u001b[0;32m    344\u001b[0m response \u001b[38;5;241m=\u001b[39m \u001b[38;5;28mself\u001b[39m\u001b[38;5;241m.\u001b[39mcommand_executor\u001b[38;5;241m.\u001b[39mexecute(driver_command, params)\n\u001b[0;32m    345\u001b[0m \u001b[38;5;28;01mif\u001b[39;00m response:\n\u001b[1;32m--> 346\u001b[0m     \u001b[38;5;28;43mself\u001b[39;49m\u001b[38;5;241;43m.\u001b[39;49m\u001b[43merror_handler\u001b[49m\u001b[38;5;241;43m.\u001b[39;49m\u001b[43mcheck_response\u001b[49m\u001b[43m(\u001b[49m\u001b[43mresponse\u001b[49m\u001b[43m)\u001b[49m\n\u001b[0;32m    347\u001b[0m     response[\u001b[38;5;124m\"\u001b[39m\u001b[38;5;124mvalue\u001b[39m\u001b[38;5;124m\"\u001b[39m] \u001b[38;5;241m=\u001b[39m \u001b[38;5;28mself\u001b[39m\u001b[38;5;241m.\u001b[39m_unwrap_value(response\u001b[38;5;241m.\u001b[39mget(\u001b[38;5;124m\"\u001b[39m\u001b[38;5;124mvalue\u001b[39m\u001b[38;5;124m\"\u001b[39m, \u001b[38;5;28;01mNone\u001b[39;00m))\n\u001b[0;32m    348\u001b[0m     \u001b[38;5;28;01mreturn\u001b[39;00m response\n",
      "File \u001b[1;32m~\\AppData\\Local\\anaconda3\\lib\\site-packages\\selenium\\webdriver\\remote\\errorhandler.py:245\u001b[0m, in \u001b[0;36mErrorHandler.check_response\u001b[1;34m(self, response)\u001b[0m\n\u001b[0;32m    243\u001b[0m         alert_text \u001b[38;5;241m=\u001b[39m value[\u001b[38;5;124m\"\u001b[39m\u001b[38;5;124malert\u001b[39m\u001b[38;5;124m\"\u001b[39m]\u001b[38;5;241m.\u001b[39mget(\u001b[38;5;124m\"\u001b[39m\u001b[38;5;124mtext\u001b[39m\u001b[38;5;124m\"\u001b[39m)\n\u001b[0;32m    244\u001b[0m     \u001b[38;5;28;01mraise\u001b[39;00m exception_class(message, screen, stacktrace, alert_text)  \u001b[38;5;66;03m# type: ignore[call-arg]  # mypy is not smart enough here\u001b[39;00m\n\u001b[1;32m--> 245\u001b[0m \u001b[38;5;28;01mraise\u001b[39;00m exception_class(message, screen, stacktrace)\n",
      "\u001b[1;31mNoSuchElementException\u001b[0m: Message: no such element: Unable to locate element: {\"method\":\"css selector\",\"selector\":\".store_info\"}\n  (Session info: chrome=114.0.5735.199); For documentation on this error, please visit: https://www.selenium.dev/documentation/webdriver/troubleshooting/errors#no-such-element-exception\nStacktrace:\nBacktrace:\n\tGetHandleVerifier [0x0098A813+48355]\n\t(No symbol) [0x0091C4B1]\n\t(No symbol) [0x00825358]\n\t(No symbol) [0x008509A5]\n\t(No symbol) [0x00850B3B]\n\t(No symbol) [0x0087E232]\n\t(No symbol) [0x0086A784]\n\t(No symbol) [0x0087C922]\n\t(No symbol) [0x0086A536]\n\t(No symbol) [0x008482DC]\n\t(No symbol) [0x008493DD]\n\tGetHandleVerifier [0x00BEAABD+2539405]\n\tGetHandleVerifier [0x00C2A78F+2800735]\n\tGetHandleVerifier [0x00C2456C+2775612]\n\tGetHandleVerifier [0x00A151E0+616112]\n\t(No symbol) [0x00925F8C]\n\t(No symbol) [0x00922328]\n\t(No symbol) [0x0092240B]\n\t(No symbol) [0x00914FF7]\n\tBaseThreadInitThunk [0x774A00C9+25]\n\tRtlGetAppContainerNamedObjectPath [0x77BE7B4E+286]\n\tRtlGetAppContainerNamedObjectPath [0x77BE7B1E+238]\n"
     ]
    }
   ],
   "source": [
    "\n",
    "for i in seller_page_hrefs:\n",
    "    browser.get(i)    \n",
    "    time.sleep(0.5)\n",
    "    try:\n",
    "        s_info = find_className(\"tab4\").click()\n",
    "        string = find_className(\"store_info_detail\").text.split('\\n')\n",
    "        seller_info.append(string)\n",
    "    except:\n",
    "        pass"
   ]
  },
  {
   "cell_type": "code",
   "execution_count": null,
   "id": "3edbe551",
   "metadata": {},
   "outputs": [],
   "source": [
    "for i in seller_info:\n",
    "    try:\n",
    "        if '법인사업자' in i: continue\n",
    "        name = getNext(cate[0], i).split(' / ')[-1]\n",
    "        cont = getNext(cate[1], i)\n",
    "        loca = getNext(cate[2], i)\n",
    "        if all([name, cont, loca]) is None:\n",
    "            if all([name, cont]):\n",
    "                final_info[0].append(name)\n",
    "                final_info[1].append(cont)\n",
    "                final_info[2].append('')\n",
    "            else:\n",
    "                continue\n",
    "        else:\n",
    "            final_info[0].append(name)\n",
    "            final_info[1].append(cont)\n",
    "            final_info[2].append(loca)\n",
    "    except:\n",
    "        print(i)\n",
    "        \n",
    "df = pd.DataFrame({'대표자': final_info[0],\n",
    "                  '전화번호': final_info[1],\n",
    "                  '영업소재지': final_info[2]\n",
    "                  })\n",
    "df.to_csv(f'wemap_{keyword}.csv', encoding='utf-8-sig', index = False)"
   ]
  },
  {
   "cell_type": "code",
   "execution_count": null,
   "id": "eb651320",
   "metadata": {},
   "outputs": [],
   "source": []
  },
  {
   "cell_type": "code",
   "execution_count": null,
   "id": "16e63462",
   "metadata": {},
   "outputs": [],
   "source": []
  },
  {
   "cell_type": "code",
   "execution_count": null,
   "id": "6e32eeb5",
   "metadata": {},
   "outputs": [],
   "source": []
  },
  {
   "cell_type": "code",
   "execution_count": 139,
   "id": "407d41ae",
   "metadata": {},
   "outputs": [],
   "source": [
    "browser.get(\"https://search.11st.co.kr/Search.tmall?kwd=양말\")"
   ]
  },
  {
   "cell_type": "code",
   "execution_count": 114,
   "id": "7f52d8ff",
   "metadata": {},
   "outputs": [],
   "source": [
    "browser.get(\"https://shop.11st.co.kr/stores/4668?pdpPrdNo=1487490920\")"
   ]
  },
  {
   "cell_type": "code",
   "execution_count": 49,
   "id": "7be164d9",
   "metadata": {},
   "outputs": [],
   "source": [
    "soup = BS(browser.page_source, \"html.parser\")\n",
    "a = soup.find_all(class_='c_prd_seller')"
   ]
  },
  {
   "cell_type": "code",
   "execution_count": 55,
   "id": "334f5703",
   "metadata": {},
   "outputs": [],
   "source": [
    "hrefs= []\n",
    "\n",
    "for j in a:\n",
    "    hrefs.append(j.find(\"a\").attrs['href'])"
   ]
  },
  {
   "cell_type": "code",
   "execution_count": 56,
   "id": "b6cd5a09",
   "metadata": {
    "collapsed": true
   },
   "outputs": [
    {
     "name": "stdout",
     "output_type": "stream",
     "text": [
      "https://shop.11st.co.kr/stores/4668?pdpPrdNo=1487490920\n",
      "https://shop.11st.co.kr/stores/417532?pdpPrdNo=2175121948\n",
      "https://shop.11st.co.kr/stores/505709?pdpPrdNo=2344728624\n",
      "https://shop.11st.co.kr/stores/460514?pdpPrdNo=2292979468\n",
      "https://shop.11st.co.kr/stores/517878?pdpPrdNo=2469136448\n",
      "https://shop.11st.co.kr/stores/8656?pdpPrdNo=2520308869\n",
      "https://shop.11st.co.kr/stores/wonsox?pdpPrdNo=2288626959\n",
      "https://shop.11st.co.kr/stores/602824?pdpPrdNo=5860633500\n",
      "https://shop.11st.co.kr/stores/2990?pdpPrdNo=4822543008\n",
      "https://shop.11st.co.kr/stores/10661?pdpPrdNo=20622289\n",
      "https://shop.11st.co.kr/stores/275859?pdpPrdNo=2643946177\n",
      "https://shop.11st.co.kr/stores/20723?pdpPrdNo=4068588562\n",
      "https://shop.11st.co.kr/stores/20723?pdpPrdNo=636617359\n",
      "https://shop.11st.co.kr/stores/2696?pdpPrdNo=1196725161\n",
      "https://shop.11st.co.kr/stores/371659?pdpPrdNo=3972107222\n",
      "https://shop.11st.co.kr/stores/2696?pdpPrdNo=464244657\n",
      "https://shop.11st.co.kr/stores/616338?pdpPrdNo=5531354279\n",
      "https://shop.11st.co.kr/stores/505709?pdpPrdNo=2343863450\n",
      "https://shop.11st.co.kr/stores/417532?pdpPrdNo=1911353680\n",
      "https://www.11st.co.kr/disp/DTAction.tmall?ID=SHOCKD&ctgrNo=70229\n",
      "https://www.11st.co.kr/disp/DTAction.tmall?ID=SHOCKD&ctgrNo=70229\n",
      "https://www.11st.co.kr/disp/DTAction.tmall?ID=SHOCKD&ctgrNo=70229\n",
      "https://www.11st.co.kr/disp/DTAction.tmall?ID=SHOCKD&ctgrNo=70229\n",
      "https://www.11st.co.kr/disp/DTAction.tmall?ID=SHOCKD&ctgrNo=70229\n",
      "https://shop.11st.co.kr/stores/390139?pdpPrdNo=2165805537\n",
      "https://shop.11st.co.kr/stores/1994?pdpPrdNo=243350467\n",
      "https://shop.11st.co.kr/stores/390139?pdpPrdNo=1526403484\n",
      "https://shop.11st.co.kr/stores/459954?pdpPrdNo=2119944625\n",
      "https://shop.11st.co.kr/stores/390139?pdpPrdNo=2165805537\n",
      "https://shop.11st.co.kr/stores/4668?pdpPrdNo=1487490920\n",
      "https://shop.11st.co.kr/stores/1994?pdpPrdNo=243350467\n",
      "https://shop.11st.co.kr/stores/390139?pdpPrdNo=1526403484\n",
      "https://shop.11st.co.kr/stores/459954?pdpPrdNo=2119944625\n",
      "https://shop.11st.co.kr/stores/251899?pdpPrdNo=5496985760\n",
      "https://shop.11st.co.kr/stores/658076?pdpPrdNo=3447059612\n",
      "https://shop.11st.co.kr/stores/362088?pdpPrdNo=1625026549\n",
      "https://shop.11st.co.kr/stores/493118?pdpPrdNo=2221464618\n",
      "https://shop.11st.co.kr/stores/8559?pdpPrdNo=94706796\n",
      "https://shop.11st.co.kr/stores/324056?pdpPrdNo=2063008924\n",
      "https://shop.11st.co.kr/stores/10661?pdpPrdNo=16235079\n",
      "https://shop.11st.co.kr/stores/10661?pdpPrdNo=1075220142\n",
      "https://shop.11st.co.kr/stores/505709?pdpPrdNo=2344728624\n",
      "https://shop.11st.co.kr/stores/748944?pdpPrdNo=4868097257\n",
      "https://shop.11st.co.kr/stores/417532?pdpPrdNo=1911353680\n",
      "https://shop.11st.co.kr/stores/390139?pdpPrdNo=1515610822\n",
      "https://shop.11st.co.kr/stores/442779?pdpPrdNo=1965927499\n",
      "https://shop.11st.co.kr/stores/610821?pdpPrdNo=3284513983\n",
      "https://shop.11st.co.kr/stores/658076?pdpPrdNo=3447065256\n",
      "https://shop.11st.co.kr/stores/369231?pdpPrdNo=2667511151\n",
      "https://shop.11st.co.kr/stores/1040?pdpPrdNo=1669041703\n",
      "https://shop.11st.co.kr/stores/727652?pdpPrdNo=4960254885\n",
      "https://shop.11st.co.kr/stores/362088?pdpPrdNo=2235266245\n",
      "https://shop.11st.co.kr/stores/11031?pdpPrdNo=2463527832\n",
      "https://shop.11st.co.kr/stores/271310?pdpPrdNo=5039378735\n",
      "https://shop.11st.co.kr/stores/1994?pdpPrdNo=1092644578\n",
      "https://shop.11st.co.kr/stores/407876?pdpPrdNo=1667294431\n",
      "https://shop.11st.co.kr/stores/526693?pdpPrdNo=2770385045\n",
      "https://shop.11st.co.kr/stores/390139?pdpPrdNo=5386656100\n",
      "https://shop.11st.co.kr/stores/3545?pdpPrdNo=3459517564\n",
      "https://shop.11st.co.kr/stores/192723?pdpPrdNo=55726851\n",
      "https://shop.11st.co.kr/stores/360865?pdpPrdNo=1373193500\n",
      "https://shop.11st.co.kr/stores/584599?pdpPrdNo=2877135685\n",
      "https://shop.11st.co.kr/stores/256668?pdpPrdNo=260282908\n",
      "https://shop.11st.co.kr/stores/221704?pdpPrdNo=106796896\n",
      "https://shop.11st.co.kr/stores/517878?pdpPrdNo=2469136448\n",
      "https://shop.11st.co.kr/stores/169920?pdpPrdNo=511524013\n",
      "https://shop.11st.co.kr/stores/6824?pdpPrdNo=1085308963\n",
      "https://shop.11st.co.kr/stores/375392?pdpPrdNo=4866145484\n",
      "https://shop.11st.co.kr/stores/537571?pdpPrdNo=2498690934\n",
      "https://shop.11st.co.kr/stores/217884?pdpPrdNo=1256504790\n",
      "https://shop.11st.co.kr/stores/402318?pdpPrdNo=1672333634\n",
      "https://shop.11st.co.kr/stores/367832?pdpPrdNo=1361846952\n",
      "https://shop.11st.co.kr/stores/10661?pdpPrdNo=20622289\n",
      "https://shop.11st.co.kr/stores/221704?pdpPrdNo=106801055\n",
      "https://shop.11st.co.kr/stores/6824?pdpPrdNo=1507381811\n",
      "https://shop.11st.co.kr/stores/568298?pdpPrdNo=2706106430\n",
      "https://shop.11st.co.kr/stores/550719?pdpPrdNo=2663928117\n",
      "https://shop.11st.co.kr/stores/6824?pdpPrdNo=1456215175\n",
      "https://shop.11st.co.kr/stores/367832?pdpPrdNo=2698291914\n",
      "https://shop.11st.co.kr/stores/10661?pdpPrdNo=2012751502\n",
      "https://shop.11st.co.kr/stores/221704?pdpPrdNo=106100994\n",
      "https://shop.11st.co.kr/stores/584599?pdpPrdNo=3294794237\n",
      "https://shop.11st.co.kr/stores/417532?pdpPrdNo=1810134752\n",
      "https://shop.11st.co.kr/stores/892794?pdpPrdNo=5921341525\n",
      "https://shop.11st.co.kr/stores/3468?pdpPrdNo=1275604610\n",
      "https://shop.11st.co.kr/stores/13758?pdpPrdNo=1858916284\n",
      "https://shop.11st.co.kr/stores/217884?pdpPrdNo=1256489901\n",
      "https://shop.11st.co.kr/stores/402318?pdpPrdNo=2135946128\n",
      "https://shop.11st.co.kr/stores/299531?pdpPrdNo=5740847109\n",
      "https://shop.11st.co.kr/stores/463294?pdpPrdNo=2114562608\n",
      "https://shop.11st.co.kr/stores/8559?pdpPrdNo=94707570\n",
      "https://shop.11st.co.kr/stores/84662?pdpPrdNo=1095277819\n",
      "https://shop.11st.co.kr/stores/261402?pdpPrdNo=347653719\n",
      "https://shop.11st.co.kr/stores/373328?pdpPrdNo=1363484464\n",
      "https://shop.11st.co.kr/stores/463294?pdpPrdNo=2803608026\n",
      "https://shop.11st.co.kr/stores/360865?pdpPrdNo=1458419452\n",
      "https://shop.11st.co.kr/stores/5420?pdpPrdNo=1214222599\n",
      "https://shop.11st.co.kr/stores/1040?pdpPrdNo=1655264033\n",
      "https://shop.11st.co.kr/stores/2782?pdpPrdNo=631417878\n",
      "https://shop.11st.co.kr/stores/132639?pdpPrdNo=1677963481\n",
      "https://shop.11st.co.kr/stores/402945?pdpPrdNo=5772452524\n",
      "https://shop.11st.co.kr/stores/375392?pdpPrdNo=2148692464\n",
      "https://shop.11st.co.kr/stores/683710?pdpPrdNo=4742654544\n",
      "https://shop.11st.co.kr/stores/1040?pdpPrdNo=1717617486\n",
      "https://shop.11st.co.kr/stores/375392?pdpPrdNo=2333962848\n",
      "https://shop.11st.co.kr/stores/362088?pdpPrdNo=2056744859\n",
      "https://shop.11st.co.kr/stores/658076?pdpPrdNo=3447063788\n",
      "https://shop.11st.co.kr/stores/6824?pdpPrdNo=2643376996\n",
      "https://shop.11st.co.kr/stores/4668?pdpPrdNo=1487490920\n",
      "https://shop.11st.co.kr/stores/417532?pdpPrdNo=2175121948\n",
      "https://shop.11st.co.kr/stores/505709?pdpPrdNo=2344728624\n"
     ]
    }
   ],
   "source": [
    "for i in hrefs:\n",
    "    print(i)"
   ]
  },
  {
   "cell_type": "code",
   "execution_count": 52,
   "id": "6bf7deba",
   "metadata": {},
   "outputs": [],
   "source": [
    "hrefs = list(set(hrefs))"
   ]
  },
  {
   "cell_type": "code",
   "execution_count": 31,
   "id": "f33f7625",
   "metadata": {},
   "outputs": [],
   "source": [
    "elem = find_className(\"store_info\").click()"
   ]
  },
  {
   "cell_type": "code",
   "execution_count": 34,
   "id": "87ed5824",
   "metadata": {},
   "outputs": [],
   "source": [
    "elem2 = find_className(\"store_info_detail\").text.split('\\n')"
   ]
  },
  {
   "cell_type": "code",
   "execution_count": 35,
   "id": "fa0a6028",
   "metadata": {},
   "outputs": [
    {
     "data": {
      "text/plain": [
       "['판매자',\n",
       " '(주)투투삭스 (two*****)',\n",
       " '상호명/대표자',\n",
       " '(주)투투삭스 / 이경열',\n",
       " '사업자 구분',\n",
       " '법인사업자',\n",
       " '사업자등록번호',\n",
       " '7948800928',\n",
       " '통신판매업신고',\n",
       " '2018-경기포천-0064',\n",
       " '전화번호',\n",
       " '031-541-8710',\n",
       " 'e-mail',\n",
       " 'ceo@twotosox.com',\n",
       " '영업소재지',\n",
       " '경기도 포천시 소흘읍 호국로 243-9']"
      ]
     },
     "execution_count": 35,
     "metadata": {},
     "output_type": "execute_result"
    }
   ],
   "source": [
    "elem2"
   ]
  },
  {
   "cell_type": "code",
   "execution_count": 37,
   "id": "d390e907",
   "metadata": {},
   "outputs": [],
   "source": [
    "tmp = elem2[3].split(' / ')"
   ]
  },
  {
   "cell_type": "code",
   "execution_count": 44,
   "id": "ed90e48c",
   "metadata": {},
   "outputs": [
    {
     "data": {
      "text/plain": [
       "'이경열'"
      ]
     },
     "execution_count": 44,
     "metadata": {},
     "output_type": "execute_result"
    }
   ],
   "source": [
    "tmp[-1]"
   ]
  },
  {
   "cell_type": "code",
   "execution_count": 98,
   "id": "53b7dccd",
   "metadata": {},
   "outputs": [],
   "source": [
    "final_info = [[''], [''],['']]\n"
   ]
  },
  {
   "cell_type": "code",
   "execution_count": 91,
   "id": "0dbb520b",
   "metadata": {},
   "outputs": [
    {
     "name": "stdout",
     "output_type": "stream",
     "text": [
      "['판매자', '주식회사 디보트 (dev****)', '상호명/대표자', '주식회사 디보트 / 정진훈', '사업자 구분', '법인사업자', '사업자등록번호', '2018633068', '통신판매업신고', '2018-서울서초-1045', '전화번호', '02-6404-5070', 'e-mail', 'likeknife@hanmail.net', '영업소재지', '서울특별시 서초구 방배로35길 38-4 (방배동,Yellow House) 지하1층']\n"
     ]
    }
   ],
   "source": [
    "print(seller_info[1])"
   ]
  },
  {
   "cell_type": "code",
   "execution_count": 65,
   "id": "9996fb2f",
   "metadata": {},
   "outputs": [
    {
     "name": "stdout",
     "output_type": "stream",
     "text": [
      "https://shop.11st.co.kr/stores/658076?pdpPrdNo=3447065256\n"
     ]
    }
   ],
   "source": [
    "print(seller_page_hrefs[1])"
   ]
  },
  {
   "cell_type": "code",
   "execution_count": 111,
   "id": "94166319",
   "metadata": {},
   "outputs": [
    {
     "data": {
      "text/plain": [
       "0"
      ]
     },
     "execution_count": 111,
     "metadata": {},
     "output_type": "execute_result"
    }
   ],
   "source": []
  },
  {
   "cell_type": "code",
   "execution_count": 158,
   "id": "4f3f4e9f",
   "metadata": {},
   "outputs": [],
   "source": []
  },
  {
   "cell_type": "code",
   "execution_count": 159,
   "id": "e4df61c8",
   "metadata": {},
   "outputs": [
    {
     "name": "stdout",
     "output_type": "stream",
     "text": [
      "2\n",
      "3\n",
      "4\n",
      "5\n",
      "6\n",
      "7\n",
      "8\n",
      "9\n",
      "10\n",
      "다음\n",
      "11, 1 if \n",
      "12\n",
      "13\n",
      "14\n",
      "15\n",
      "16\n",
      "17\n",
      "18\n",
      "19\n",
      "20\n",
      "다음\n",
      "21, 2 if \n",
      "21\n",
      "22\n",
      "23\n",
      "24\n",
      "25\n"
     ]
    }
   ],
   "source": [
    "\n",
    "    \n",
    "    "
   ]
  },
  {
   "cell_type": "code",
   "execution_count": 155,
   "id": "25136bf9",
   "metadata": {},
   "outputs": [
    {
     "name": "stdout",
     "output_type": "stream",
     "text": [
      "13\n",
      "처음\n",
      "이전\n",
      "21\n",
      "22\n",
      "23\n",
      "24\n",
      "25\n",
      "26\n",
      "27\n",
      "28\n",
      "29\n",
      "30\n",
      "다음\n",
      "21\n"
     ]
    }
   ],
   "source": [
    "print(len(ta))\n",
    "for i in ta:\n",
    "    print(i.text)\n",
    "    \n",
    "print(ta[2].text)"
   ]
  },
  {
   "cell_type": "code",
   "execution_count": 134,
   "id": "14f6e869",
   "metadata": {},
   "outputs": [],
   "source": [
    "ta[2].click()"
   ]
  },
  {
   "cell_type": "code",
   "execution_count": null,
   "id": "e809f07c",
   "metadata": {},
   "outputs": [],
   "source": [
    "def getNext(x, lst):\n",
    "    next_el = None\n",
    "    for i in range(0, len(lst)):\n",
    "        if lst[i] == x:\n",
    "            next_el = lst[i+1]\n",
    "    return next_el"
   ]
  },
  {
   "cell_type": "code",
   "execution_count": null,
   "id": "4e671a95",
   "metadata": {},
   "outputs": [],
   "source": [
    "error = []\n",
    "seller_info = []\n",
    "seller_page_hrefs = []\n",
    "cate = ['대표자', '전화번호','영업소재지']\n",
    "final_info = [[''], [''],['']]\n",
    "\n",
    "for keyword in keywords:\n",
    "\n",
    "    for i in range(2, 51):\n",
    "        browser.get(f'https://browse.gmarket.co.kr/search?keyword={keyword}&p={i}')\n",
    "        print(keyword, i)\n",
    "        soup = BS(browser.page_source, \"html.parser\")\n",
    "        soup = soup.find_all(class_='link__shop')\n",
    "        for i in soup:\n",
    "            try:\n",
    "                seller_page_hrefs.append(i[\"href\"])\n",
    "            except KeyError as ex:\n",
    "                print(i)\n",
    "                \n",
    "        seller_page_hrefs = list(set(seller_page_hrefs))\n",
    "#         seller_page_hrefs = list(seller_page_hrefs)\n",
    "    for href in seller_page_hrefs:\n",
    "        print(keyword, href)\n",
    "        try:\n",
    "            if 'http://corners.gmarket.co.kr/smiledelivery' in href:\n",
    "                continue\n",
    "            browser.get(href)\n",
    "            s_info = browser.find_element(By.ID, 'seller_info')\n",
    "            s_info.click()\n",
    "            time.sleep(0.5)\n",
    "            s_info = browser.find_element(By.TAG_NAME, 'dl')\n",
    "            string = s_info.text.split('\\n')\n",
    "            seller_info.append(string)\n",
    "        except Exception as ex:\n",
    "#             print(ex)\n",
    "            error.append(ex)\n",
    "\n",
    "    for i in seller_info:\n",
    "        try:\n",
    "            name = getNext(cate[0], i)\n",
    "            cont = getNext(cate[1], i)\n",
    "            loca = getNext(cate[2], i)\n",
    "            if all([name, cont, loca]) is None:\n",
    "                if all([name, cont]):\n",
    "                    final_info[0].append(name)\n",
    "                    final_info[1].append(str(cont))\n",
    "                    final_info[2].append('')\n",
    "                else:\n",
    "                    continue\n",
    "            else:\n",
    "                final_info[0].append(name)\n",
    "                final_info[1].append(str(cont))\n",
    "                final_info[2].append(loca)\n",
    "        except:\n",
    "            print('except')\n",
    "#                 final_info = tmp[:]\n",
    "df = pd.DataFrame({'대표자': final_info[0],\n",
    "                  '전화번호': final_info[1],\n",
    "                  '영업소재지': final_info[2]\n",
    "                  })\n",
    "df.to_csv(f'20230703.csv', encoding='utf-8-sig', index = False)"
   ]
  }
 ],
 "metadata": {
  "kernelspec": {
   "display_name": "Python 3 (ipykernel)",
   "language": "python",
   "name": "python3"
  },
  "language_info": {
   "codemirror_mode": {
    "name": "ipython",
    "version": 3
   },
   "file_extension": ".py",
   "mimetype": "text/x-python",
   "name": "python",
   "nbconvert_exporter": "python",
   "pygments_lexer": "ipython3",
   "version": "3.10.9"
  }
 },
 "nbformat": 4,
 "nbformat_minor": 5
}
